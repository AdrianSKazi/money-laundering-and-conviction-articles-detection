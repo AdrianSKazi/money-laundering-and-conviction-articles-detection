{
  "nbformat": 4,
  "nbformat_minor": 0,
  "metadata": {
    "colab": {
      "name": "silenteight.ipynb",
      "provenance": [],
      "collapsed_sections": []
    },
    "kernelspec": {
      "name": "python3",
      "display_name": "Python 3"
    },
    "language_info": {
      "name": "python"
    }
  },
  "cells": [
    {
      "cell_type": "markdown",
      "metadata": {
        "id": "gDZ6UxtjKzew"
      },
      "source": [
        "* stopwords\n",
        "* cross validation na hiperparametrach\n",
        "* "
      ]
    },
    {
      "cell_type": "markdown",
      "metadata": {
        "id": "Kx-7dAjwP2jY"
      },
      "source": [
        "# Model description"
      ]
    },
    {
      "cell_type": "markdown",
      "metadata": {
        "id": "weFRwVde7fAJ"
      },
      "source": [
        "\n",
        "\n",
        "---\n",
        "\n",
        "\n",
        "\n",
        "---\n",
        "\n"
      ]
    },
    {
      "cell_type": "markdown",
      "metadata": {
        "id": "vWO_aAC1P5WY"
      },
      "source": [
        "*The aim of this model is not to achieve high accuracy but to present way of \n",
        "solving mentioned problem. Accuracy probably will be low due to small amount of articles for training and it's labels.*\n",
        "\n",
        "\n",
        "\n",
        "---\n",
        "\n",
        "\n",
        "\n",
        "Below model ought to predict whether the article is about money laundering activity or not. Then if it is model will predict whether the article is in tone of allegations or convictions.\n",
        "\n",
        "To make it work I will use 2 models trained on 2 separate datasets.\n",
        "* 1 dataset is assembled of 25 articles about money laundering and other subjects articles. Thats how model will learn how to distinguish money laundering article from the others. All variables' names belonging to this model start from 'ml' from Money Laundering.\n",
        "* 2 dataset is assembled of 20 articles with allegations or convictions. Thats how model will learn how to distinguish convictions from allegations. All variables' names belonging to this model start from 'ind' from Indictment.\n",
        "\n",
        "After creating two separate models I will use them accordingly on the new articles df assembled from articles without labels. Thus, ml_model will be launched on the articles df first to filter out money activity articles only, creating ml_model df. Subsequently ind_model will separate allegations articles and conviction articles from ml_mode df, creating final ind_model df. All can be run through Application."
      ]
    },
    {
      "cell_type": "markdown",
      "metadata": {
        "id": "c__IbVmtM9uS"
      },
      "source": [
        "# Libraries"
      ]
    },
    {
      "cell_type": "markdown",
      "metadata": {
        "id": "QC_mAR5o7d9O"
      },
      "source": [
        "\n",
        "\n",
        "---\n",
        "\n",
        "\n",
        "\n",
        "---\n",
        "\n"
      ]
    },
    {
      "cell_type": "code",
      "metadata": {
        "id": "yUwgZeoBM333"
      },
      "source": [
        "import pandas as pd\n",
        "import numpy as np\n",
        "# np.random.seed(1337)\n",
        "\n",
        "from tensorflow.keras.preprocessing.text import text_to_word_sequence as tws\n",
        "from tensorflow.keras.preprocessing.text import Tokenizer\n",
        "from tensorflow.keras.preprocessing.sequence import pad_sequences\n",
        "from tensorflow.keras.models import Sequential\n",
        "from tensorflow.keras.layers import Dense, Embedding, LSTM, SimpleRNN, Bidirectional"
      ],
      "execution_count": 60,
      "outputs": []
    },
    {
      "cell_type": "markdown",
      "metadata": {
        "id": "ozDqhkLbNBOZ"
      },
      "source": [
        "# Data import"
      ]
    },
    {
      "cell_type": "markdown",
      "metadata": {
        "id": "IOuaMbcn7cYA"
      },
      "source": [
        "\n",
        "\n",
        "---\n",
        "\n",
        "\n",
        "\n",
        "---\n",
        "\n"
      ]
    },
    {
      "cell_type": "code",
      "metadata": {
        "id": "UMu5N3hENCvZ"
      },
      "source": [
        "# training dataset for money laundering news or not classification\n",
        "df_ml = pd.read_excel('train.xlsx', sheet_name = 'money_laundering')\n",
        "\n",
        "# training dataset for conviction or not classification\n",
        "df_ind = pd.read_excel('train.xlsx', sheet_name = 'allegations_convictions')"
      ],
      "execution_count": 61,
      "outputs": []
    },
    {
      "cell_type": "markdown",
      "metadata": {
        "id": "J3pZk-vjWNM8"
      },
      "source": [
        "# Exploratory Data Analysis"
      ]
    },
    {
      "cell_type": "markdown",
      "metadata": {
        "id": "VqkwkCQL7adp"
      },
      "source": [
        "\n",
        "\n",
        "---\n",
        "\n",
        "\n",
        "\n",
        "---\n",
        "\n"
      ]
    },
    {
      "cell_type": "markdown",
      "metadata": {
        "id": "ONOK4_TXWQBL"
      },
      "source": [
        "Since I've created this training data and it's quite small EDA look's a bit different than regular one"
      ]
    },
    {
      "cell_type": "markdown",
      "metadata": {
        "id": "y4qVQf_3W0mL"
      },
      "source": [
        "\n",
        "\n",
        "---\n",
        "\n"
      ]
    },
    {
      "cell_type": "markdown",
      "metadata": {
        "id": "aDBnvrHvP5Ch"
      },
      "source": [
        "First part of task is ambigious. For the sake of the project I treated \"money laundering activity\" as an article describing money laundering offence. So, the article about \"How bank XYZ want's to improve their money laundering security\" or \"How cryptocurrency can be used as money laundering tool\" are marked as non-money laundering at training set because they are not describing criminal offence. On the contrary article named \"Mr. Whitecollar accused of money laundering\" would be marked as money laundering."
      ]
    },
    {
      "cell_type": "markdown",
      "metadata": {
        "id": "Z-xDuzljWeGc"
      },
      "source": [
        "## money laundering df"
      ]
    },
    {
      "cell_type": "markdown",
      "metadata": {
        "id": "mQafWqY3TXsc"
      },
      "source": [
        "* 1 - money laundering activity\n",
        "* 0 - not a money laundering activity\n",
        "\n",
        "df_ml training set incudes different topics articles"
      ]
    },
    {
      "cell_type": "code",
      "metadata": {
        "colab": {
          "base_uri": "https://localhost:8080/"
        },
        "id": "aRMSBQXgTVq-",
        "outputId": "2a12d0bd-1dd1-438e-d3a7-67009988fa9a"
      },
      "source": [
        "print('Allegation or Conviction training dataset:\\n{}'.format(df_ml.head(5)))\n",
        "print('\\n')\n",
        "print('Length: \\n{} rows'.format(len(df_ml)))\n",
        "print('\\n')\n",
        "print('Example: \\n{} {}\\n\\n{}'.format('Class:','Not Money Laundering' if df_ml.iloc[0,1] == 0 else 'Money Laundering',df_ml.iloc[0,0]))"
      ],
      "execution_count": 62,
      "outputs": [
        {
          "output_type": "stream",
          "name": "stdout",
          "text": [
            "Allegation or Conviction training dataset:\n",
            "                                                text  ml\n",
            "0  Dublin criminal Graham Whelan, who used crime ...   1\n",
            "1  Man jailed for pushing woman from Dunkeld Brid...   0\n",
            "2  Many people were surprised to learn that Ninte...   0\n",
            "3  New York’s largest health care provider fires ...   0\n",
            "4  Nobel in physics: Climate science breakthrough...   0\n",
            "\n",
            "\n",
            "Length: \n",
            "25 rows\n",
            "\n",
            "\n",
            "Example: \n",
            "Class: Money Laundering\n",
            "\n",
            "Dublin criminal Graham Whelan, who used crime cash to pay for a penthouse suite at a luxury Dublin hotel and to refurbish his home, has made a “dramatic change” to his life since the tragic death of his wife, the Special Criminal Court has heard.\n",
            "\n",
            "Whelan (39) of Walkinstown Avenue, Walkinstown, Dublin 12, pleaded guilty in July at the Special Criminal Court to participating in the actions of an organised crime group by laundering money for the group and being in possession of €1,200 in cash and a €28,000 watch, the proceeds of crime at the Intercontinental Hotel, Ballsbridge, Dublin 4, on January 31th, 2019.\n",
            "\n",
            "Whelan also pleaded guilty to paying €2,140 for a three-night stay at the hotel at Room 342, knowing or believing that the money was the proceeds of criminal conduct, contrary to Section 7 of the Act.\n",
            "\n",
            "When gardaí asked Whelan on the night how he could account for the €1,275 in cash he had in his pocket, he told officers that he had gotten it from “up his Swiss roll” and told them to keep it.\n",
            "\n",
            "Whelan also pleaded guilty to possessing an Audemars Piguet Royal Oak gentleman’s watch, knowing that the property, valued at €28,000, was purchased with the proceeds of crime.\n",
            "\n",
            "Father-of-four Whelan was granted bail by the non-jury court in March, after judges considered the death of his partner as being the “crucial factor” in his application.\n",
            "\n",
            "On Tuesday, Detective Garda Donal Donoghue of the Special Crime Task Force told Grainne Mullan BL that he accompanied other gardaí­ to Room 342 at the hotel on January 31st, 2019 on foot of a warrant investigating a crime gang involved in drugs.\n",
            "\n",
            "Det Gda Donoghue told Ms Mullan that he searched Whelan and found €1,275 in the accused’s pocket and found a hotel receipt for €2,140, which had been paid in cash.\n"
          ]
        }
      ]
    },
    {
      "cell_type": "markdown",
      "metadata": {
        "id": "wbAFccfnWiFc"
      },
      "source": [
        "## indictment df"
      ]
    },
    {
      "cell_type": "markdown",
      "metadata": {
        "id": "8MlHwYttVnHY"
      },
      "source": [
        "* 1 - conviction case\n",
        "* 0 - allegation case\n",
        "\n",
        "df_ind training set includes money laundering activity articles only"
      ]
    },
    {
      "cell_type": "code",
      "metadata": {
        "colab": {
          "base_uri": "https://localhost:8080/"
        },
        "id": "h0ge3XAXTCbI",
        "outputId": "fdc093f0-b8a7-4ea6-f7b2-6e53b665df3e"
      },
      "source": [
        "print('Allegation or Conviction training dataset:\\n{}'.format(df_ind.head(5)))\n",
        "print('\\n')\n",
        "print('Length: \\n{} rows'.format(len(df_ind)))\n",
        "print('\\n')\n",
        "print('Example: \\n{} {}\\n\\n{}'.format('Class:','Allegtion' if df_ind.iloc[0,1] == 0 else 'Conviction',df_ind.iloc[0,0]))"
      ],
      "execution_count": 63,
      "outputs": [
        {
          "output_type": "stream",
          "name": "stdout",
          "text": [
            "Allegation or Conviction training dataset:\n",
            "                                                text  conviction\n",
            "0  Alleged Money Laundering: Court fixes 14 Octob...           0\n",
            "1  Pandora Papers Reveal Artworld Money Launderin...           0\n",
            "2  Ex-adviser jailed after laundering money for o...           1\n",
            "3  Comancheros gang president Pasilika Naufahu ha...           1\n",
            "4  Australia: More people charged with money laun...           0\n",
            "\n",
            "\n",
            "Length: \n",
            "20 rows\n",
            "\n",
            "\n",
            "Example: \n",
            "Class: Allegtion\n",
            "\n",
            "Alleged Money Laundering: Court fixes 14 October for ex-PDP’s spokesperson, Olisa Metuh’s retrial\n",
            "Earlier jailed for the money laundering offences, Olisa Metuh was released from prison in December 2020 after the Court of Appeal set aside his earlier conviction and sentence.\n",
            "ByPremium TimesandAgency Report  September 28, 2021 3 min read\n",
            "The Federal High Court in Abuja on Tuesday fixed 14 October for re-arraignment of a formerly convicted former Peoples Democratic Party (PDP)’s spokesperson, Olisa Metuh.\n",
            "\n",
            "This signals the commencement of his retrial on money laundering charges as ordered by the Court of Appeal in December 2020.\n",
            "\n",
            "Mr Metuh faces charges of laundering N400million he allegedly received fraudulently from a former National Security Adviser, Sambo Dasuki, for his party’s presidential campaigns ahead of the 2015 elections.\n",
            "\n",
            "Two of the charges have to do with $2million cash he allegedly transacted with without going through a financial institution, in violation of cash transaction limits set in the money laundering law.\n",
            "\n",
            "Earlier jailed seven years for the offences on 25 February, 2020, Mr Metuh got out of prison in December after the Court of Appeal in Abuja nullified his previous trial and ordered his retrial.\n",
            "\n",
            "The Court of Appeal had, without considering the merit of the money laundering case, set aside the proceedings leading up to Mr Metuh’s conviction by the Federal High Court in Abuja on the grounds that the trial judge, Okon Abang, allegedly exhibited bias against the ex-spokesperson of the PDP and his legal team\n",
            "\n",
            "Following the Court of Appeal’s judgment, Nkeonye Maha, another judge of the Federal High Court in Abuja, on 24 December, 2020, ordered the release of Mr Metuh from prison based on a N250 million bail bond, and granted him permission to travel abroad on health grounds pending his retrial.\n",
            "\n",
            "A News Agency of Nigeria (NAN) report indicates on Tuesday that the case has been reassigned to another judge of the Federal High Court, Obiora Egwuatu.\n",
            "\n",
            "NAN reports that all the parties in the matter, including Mr Metuh, were in court, on Tuesday, but the judge was absent.\n",
            "\n",
            "\n",
            "Mr Metuh’s matter was number six on the Tuesday’s cause list of the court.\n",
            "\n",
            "Due to the judge’s absence, the court’s registrar fixed 14 October for re-arraignment in the case.\n",
            "\n",
            "Earlier reluctant to pursue a retrial, the Economic and Financial Crimes Commission (EFCC) had appealed to the Supreme Court asking for an order setting aside the Court of Appeal’s decision.\n",
            "\n",
            "\n",
            "\n",
            "The commission urged the apex court to uphold the judgment of the trial court and send Mr Metuh back prison to complete his jail term.\n",
            "\n",
            "Road to re-arraignment\n",
            "NAN reports that the Court of Appeal, Abuja, on 16 December, 2020, nullified the Federal High Court judgement that convicted and sentenced Mr Metuh to seven years imprisonment on money laundering charges.\n",
            "\n",
            "In the judgment of the three-member panel of the appeal court led by Stephen Adah, the Court of Appeal held that the proceedings of the Federal High Court which led to the conviction of Mr Metuh were ”tainted and therefore must not be allowed to stand”.\n",
            "\n",
            "\n",
            "Mr Adah held in the judgment that the “expressions” of the trial judge, during the trial ”established that he was biased against the convicts”. He, therefore, ordered that the trial be conducted afresh.\n",
            "\n",
            "\n",
            "“The narrative of the trial judge suggests someone who didn’t enjoy trying the appellant and counsel because he said they were picking on him. He was struggling with the case and even wished that he should be recused out of the case.\n",
            "\n",
            "ⓘ\n",
            "\n",
            "“The influence from the narrative is indisputably to say the least that a trial judge was angered only in his mind that he was wrongly influenced and showed bias against the appellant in this case as this is what manifests from all the outbursts, he has infused in his judgement.”\n",
            "\n",
            "“Learned trial judge showed in his comments, the influence of an abnormal desire all inclination to pursue a predetermined line of action against the appellant. This is no doubt is an influence of bias against the appellant. There is no way the learned trial judge can be seen to be detached from the malice against the appellant in the case as alleged.”\n",
            "\n",
            "The appellate court voided the conviction and sentence imposed on Mr Metuh and his company, Destra Investment Limited.\n",
            "\n",
            "It also ordered that the case be sent back to the Chief Judge of the Federal High Court for reassignment.\n",
            "\n",
            "\n"
          ]
        }
      ]
    },
    {
      "cell_type": "markdown",
      "metadata": {
        "id": "C-6fPYHKxu-J"
      },
      "source": [
        "# Feature Engineering "
      ]
    },
    {
      "cell_type": "markdown",
      "metadata": {
        "id": "cz2gDnSk7V5J"
      },
      "source": [
        "\n",
        "\n",
        "---\n",
        "\n",
        "\n",
        "\n",
        "---\n",
        "\n"
      ]
    },
    {
      "cell_type": "markdown",
      "metadata": {
        "id": "wHmPaeyX9FmL"
      },
      "source": [
        "Creating list of texts for each dataset"
      ]
    },
    {
      "cell_type": "markdown",
      "metadata": {
        "id": "XnZyO8U4PR5w"
      },
      "source": [
        "## money laundering txt and class lists"
      ]
    },
    {
      "cell_type": "code",
      "metadata": {
        "id": "UxB3MShsxwmi"
      },
      "source": [
        "ml_txt = []\n",
        "ml_class = []\n",
        "for i in df_ml['text']:\n",
        "  ml_txt.append(i)\n",
        "for i in df_ml['ml']:\n",
        "  ml_class.append(i)"
      ],
      "execution_count": 64,
      "outputs": []
    },
    {
      "cell_type": "code",
      "metadata": {
        "colab": {
          "base_uri": "https://localhost:8080/"
        },
        "id": "_Ki7HCYL-b5Y",
        "outputId": "47fcc1db-bc73-4b83-c968-d7e8131f0c8b"
      },
      "source": [
        "ml_txt[:3]"
      ],
      "execution_count": 65,
      "outputs": [
        {
          "output_type": "execute_result",
          "data": {
            "text/plain": [
              "['Dublin criminal Graham Whelan, who used crime cash to pay for a penthouse suite at a luxury Dublin hotel and to refurbish his home, has made a “dramatic change” to his life since the tragic death of his wife, the Special Criminal Court has heard.\\n\\nWhelan (39) of Walkinstown Avenue, Walkinstown, Dublin 12, pleaded guilty in July at the Special Criminal Court to participating in the actions of an organised crime group by laundering money for the group and being in possession of €1,200 in cash and a €28,000 watch, the proceeds of crime at the Intercontinental Hotel, Ballsbridge, Dublin 4, on January 31th, 2019.\\n\\nWhelan also pleaded guilty to paying €2,140 for a three-night stay at the hotel at Room 342, knowing or believing that the money was the proceeds of criminal conduct, contrary to Section 7 of the Act.\\n\\nWhen gardaí asked Whelan on the night how he could account for the €1,275 in cash he had in his pocket, he told officers that he had gotten it from “up his Swiss roll” and told them to keep it.\\n\\nWhelan also pleaded guilty to possessing an Audemars Piguet Royal Oak gentleman’s watch, knowing that the property, valued at €28,000, was purchased with the proceeds of crime.\\n\\nFather-of-four Whelan was granted bail by the non-jury court in March, after judges considered the death of his partner as being the “crucial factor” in his application.\\n\\nOn Tuesday, Detective Garda Donal Donoghue of the Special Crime Task Force told Grainne Mullan BL that he accompanied other gardaí\\xad to Room 342 at the hotel on January 31st, 2019 on foot of a warrant investigating a crime gang involved in drugs.\\n\\nDet Gda Donoghue told Ms Mullan that he searched Whelan and found €1,275 in the accused’s pocket and found a hotel receipt for €2,140, which had been paid in cash.',\n",
              " 'Man jailed for pushing woman from Dunkeld Bridge\\nA man who tried to murder his former partner by pushing her from a bridge in Perthshire has been jailed for nine years.\\n\\nRobert Leggat struck Hazel Donaldson on the head with an unknown object before lifting her legs and shoving her from the bridge at the River Tay at Dunkeld.\\n\\nMs Donaldson survived the fall but sustained serious injuries.\\n\\nLeggat was also banned from approaching or contacting his victim for 12 years at the High Court in Edinburgh.\\n\\nThe 45-year-old will also be supervised for three years following his release from jail.\\n\\nJudge Fiona Tait told Leggat: \"It was only good fortune that she landed on the ground and not in the river.\"\\n\\n\"It was extremely frightening for the complainer and has ongoing physical consequences for her.\"\\n\\nLeggat was earlier convicted of attacking and attempting to murder Ms Donaldson on in December 2019.\\n\\nDuring the attack he grabbed her hair and put an arm around her neck and pulled her towards the bridge.\\n\\nShe was hit on the head with an object, seized hold of and her legs lifted while she was leaning on the bridge wall and pushed from the bridge, falling to the ground below.\\n\\nThe crime was aggravated by involving the abuse of a partner and by Leggat being on bail at the time.\\n\\nDefence solicitor advocate Jim Keegan QC told the court that Leggat continued to deny responsibility for the crime which a jury found him guilty of committing.\\n\\nMr Keegan said Leggat understood he had to accept the decision of the jury and added: \"He also understands that given the seriousness of the current offence of which he was convicted there is absolutely no alternative to a substantial prison sentence.\"',\n",
              " 'Many people were surprised to learn that Nintendo Co.’s new video game console is missing a common feature of rival systems: support for high-fidelity, 4K graphics. Perhaps most perplexed were the numerous developers who were working on 4K games using a software toolkit provided by Nintendo.\\n\\nEmployees at 11 game companies said their teams were in possession of Nintendo’s 4K development kit for the Switch. The companies span the globe, ranging from large publishers to small studios and include at least one that has never made a console game before, Zynga Inc., according to the employees, who asked not to be identified because they weren’t authorized to discuss their projects publicly.\\n\\nThe latest model of the best-selling Nintendo Switch is set to go on sale Oct. 8. It will sport a larger screen than the current versions, use OLED technology for better color and contrast and, at $350, cost more than its predecessors.\\n\\nNintendo Switch (OLED model)\\nThe new Nintendo Switch with an OLED screen.Nintendo Co.\\nMore from\\nScreentime\\nNintendo’s Smash Bros. Gets Final Character in Hit Fighter Game\\nYouTube Looks to Hire Its First Executive Focused on Podcasts\\nBond Has Already Earned More Than Any Other U.K. Movie of 2021\\nJames Bond Becomes Theaters’ New Hope for a Box Office Jolt\\nBut a system capable of handling 4K games isn’t expected to be released until late next year at the earliest, people familiar with the plans said. That leaves Nintendo at a technical disadvantage to rivals, whose shares have soared this year while Nintendo’s have lost 20%. It also risks alienating developers who have spent months tailoring their games to take advantage of upgraded hardware capabilities.\\n\\nNintendo responded to a list of questions by saying Bloomberg’s reporting is “inaccurate” and declined to specify which parts of the information it was referring to. In a tweet after the story’s publication, the company refuted it is supplying tools to drive 4K game development and reiterated it has “no plans” for any new Switch model beside the OLED variant.\\n\\nAfter publication, Zynga spokeswoman Sarah Ross disputed what the people familiar with the matter said. “To clarify, Zynga does not have a 4K developer kit from Nintendo,” she said in a statement.\\n\\nBloomberg began reporting on details of the product more than a year ago, including the bigger OLED display, the fall release and the higher price. It was also supposed to contain a faster chip from Nvidia Corp. that would enable 4K graphics when connected to a television, people familiar with the plan said in March. Nvidia declined to comment.\\n\\nBut the 4K capability didn’t come to pass. It’s unclear exactly when the design changed. The reason, according to a person familiar with Nintendo’s hardware planning, was component shortages, a far-reaching problem born out of the Covid-19 pandemic. After unveiling the Switch OLED, Nintendo said it had “no plans for launching any other model at this time.”\\nBy the time Nintendo showed off the new console in July, the company had already handed out the 4K kits to outside developers and asked them to design software to support the higher resolution. A development kit, which is used to test unfinished games, is a standard instrument in the game-making process. The Nintendo Switch kit contains extra memory to accommodate debugging software and additional ports to facilitate a connection to a computer but otherwise has similar capabilities to the hardware that customers would have at home. The kit for the original Switch, like the consumer products, transmits video to a TV or monitor at 1080p resolution. The new one does 4K.\\n\\nSponsored Content\\nMaking Better Decisions Matters at the Ryder Cup, and for Your Business\\nBloomberg\\nThe lack of 4K in next month’s product is significant because it puts Nintendo’s system at a technical disadvantage. Microsoft Corp. and Sony Group Corp. have offered 4K-capable consoles for several years and released even more powerful hardware in 2020 that continues to see insatiable demand. The Nintendo Switch, which came out in 2017, is still selling well and early pre-orders for the Switch OLED in the U.S. and Japan suggest it will be another hit, though Microsoft’s Xbox Series X and Sony’s PlayStation 5 are only going to grow stronger as more games come out that take advantage of their increased power.\\n\\nDevelopers declined to speculate on Nintendo’s plans for another console but said they expect to release their 4K Switch games during or after the second half of next year. Last month, Zynga said that Star Wars: Hunters, a game for the Switch and smartphones, will likely be delayed until 2022 after initially being planned for release this year. Although Bloomberg identified 11 companies using the 4K kits, the actual number is probably much higher.\\n\\nNintendo could still decide to not release a 4K Switch. The Kyoto, Japan-based company has quietly shelved numerous products over the years for strategic reasons or technical challenges. One noteworthy example is a sleep monitor called Quality of Life that the company unveiled in 2014 and never sold. For developers that expended considerable resources preparing for a 4K console, the lack of an upgrade would complicate plans and may add the burden of converting their projects to support lesser hardware.\\n\\n\\n\\n\\n\\n']"
            ]
          },
          "metadata": {},
          "execution_count": 65
        }
      ]
    },
    {
      "cell_type": "code",
      "metadata": {
        "colab": {
          "base_uri": "https://localhost:8080/"
        },
        "id": "JW1OZwZk8JW8",
        "outputId": "3b174316-0599-46a8-e226-7803859bab83"
      },
      "source": [
        "ml_class[:3]"
      ],
      "execution_count": 66,
      "outputs": [
        {
          "output_type": "execute_result",
          "data": {
            "text/plain": [
              "[1, 0, 0]"
            ]
          },
          "metadata": {},
          "execution_count": 66
        }
      ]
    },
    {
      "cell_type": "markdown",
      "metadata": {
        "id": "7sWvU6vNPl96"
      },
      "source": [
        "## indictment txt and class lists"
      ]
    },
    {
      "cell_type": "code",
      "metadata": {
        "id": "zD4T4DnKPZor"
      },
      "source": [
        "ind_txt = []\n",
        "ind_class = []\n",
        "for i in df_ind['text']:\n",
        "  ind_txt.append(i)\n",
        "for i in df_ind['conviction']:\n",
        "  ind_class.append(i)"
      ],
      "execution_count": 67,
      "outputs": []
    },
    {
      "cell_type": "code",
      "metadata": {
        "colab": {
          "base_uri": "https://localhost:8080/"
        },
        "id": "NX5NAj9I80n0",
        "outputId": "e403dccf-16e6-4d03-d7d1-666af613b03f"
      },
      "source": [
        "ind_txt[:3]"
      ],
      "execution_count": 68,
      "outputs": [
        {
          "output_type": "execute_result",
          "data": {
            "text/plain": [
              "['Alleged Money Laundering: Court fixes 14 October for ex-PDP’s spokesperson, Olisa Metuh’s retrial\\nEarlier jailed for the money laundering offences, Olisa Metuh was released from prison in December 2020 after the Court of Appeal set aside his earlier conviction and sentence.\\nByPremium TimesandAgency Report  September 28, 2021 3 min read\\nThe Federal High Court in Abuja on Tuesday fixed 14 October for re-arraignment of a formerly convicted former Peoples Democratic Party (PDP)’s spokesperson, Olisa Metuh.\\n\\nThis signals the commencement of his retrial on money laundering charges as ordered by the Court of Appeal in December 2020.\\n\\nMr Metuh faces charges of laundering N400million he allegedly received fraudulently from a former National Security Adviser, Sambo Dasuki, for his party’s presidential campaigns ahead of the 2015 elections.\\n\\nTwo of the charges have to do with $2million cash he allegedly transacted with without going through a financial institution, in violation of cash transaction limits set in the money laundering law.\\n\\nEarlier jailed seven years for the offences on 25 February, 2020, Mr Metuh got out of prison in December after the Court of Appeal in Abuja nullified his previous trial and ordered his retrial.\\n\\nThe Court of Appeal had, without considering the merit of the money laundering case, set aside the proceedings leading up to Mr Metuh’s conviction by the Federal High Court in Abuja on the grounds that the trial judge, Okon Abang, allegedly exhibited bias against the ex-spokesperson of the PDP and his legal team\\n\\nFollowing the Court of Appeal’s judgment, Nkeonye Maha, another judge of the Federal High Court in Abuja, on 24 December, 2020, ordered the release of Mr Metuh from prison based on a N250 million bail bond, and granted him permission to travel abroad on health grounds pending his retrial.\\n\\nA News Agency of Nigeria (NAN) report indicates on Tuesday that the case has been reassigned to another judge of the Federal High Court, Obiora Egwuatu.\\n\\nNAN reports that all the parties in the matter, including Mr Metuh, were in court, on Tuesday, but the judge was absent.\\n\\n\\nMr Metuh’s matter was number six on the Tuesday’s cause list of the court.\\n\\nDue to the judge’s absence, the court’s registrar fixed 14 October for re-arraignment in the case.\\n\\nEarlier reluctant to pursue a retrial, the Economic and Financial Crimes Commission (EFCC) had appealed to the Supreme Court asking for an order setting aside the Court of Appeal’s decision.\\n\\n\\n\\nThe commission urged the apex court to uphold the judgment of the trial court and send Mr Metuh back prison to complete his jail term.\\n\\nRoad to re-arraignment\\nNAN reports that the Court of Appeal, Abuja, on 16 December, 2020, nullified the Federal High Court judgement that convicted and sentenced Mr Metuh to seven years imprisonment on money laundering charges.\\n\\nIn the judgment of the three-member panel of the appeal court led by Stephen Adah, the Court of Appeal held that the proceedings of the Federal High Court which led to the conviction of Mr Metuh were ”tainted and therefore must not be allowed to stand”.\\n\\n\\nMr Adah held in the judgment that the “expressions” of the trial judge, during the trial ”established that he was biased against the convicts”. He, therefore, ordered that the trial be conducted afresh.\\n\\n\\n“The narrative of the trial judge suggests someone who didn’t enjoy trying the appellant and counsel because he said they were picking on him. He was struggling with the case and even wished that he should be recused out of the case.\\n\\nⓘ\\n\\n“The influence from the narrative is indisputably to say the least that a trial judge was angered only in his mind that he was wrongly influenced and showed bias against the appellant in this case as this is what manifests from all the outbursts, he has infused in his judgement.”\\n\\n“Learned trial judge showed in his comments, the influence of an abnormal desire all inclination to pursue a predetermined line of action against the appellant. This is no doubt is an influence of bias against the appellant. There is no way the learned trial judge can be seen to be detached from the malice against the appellant in the case as alleged.”\\n\\nThe appellate court voided the conviction and sentence imposed on Mr Metuh and his company, Destra Investment Limited.\\n\\nIt also ordered that the case be sent back to the Chief Judge of the Federal High Court for reassignment.\\n\\n',\n",
              " 'Pandora Papers Reveal Artworld Money Laundering – Windrush Sculpture Unveiled – LA’s Academy Museum Opens\\nThe Pandora Papers which came to light over the weekend have released over twelve million documents revealing systematic tax-dodging by fourteen firms utilising offshore bank accounts to hide the assets of hundreds of wealthy clients, including over 100 billionaires. The papers also highlight wealthy corporations and individuals using shell companies and trusts to hide assets ranging from art and antiquities to yachts and property portfolios. \\n\\nAccording to the Washington Post, Douglas Latchford, an accused antiquities dealer, linked to looted Cambodian artefacts and his family set up trusts in tax havens shortly after US investigators linked him to stolen Cambodian artefacts. It has now been revealed that he clearly falsified invoices and other records. He and his associates are suspected of using offshore companies to conceal wrongdoing in the global art trade.\\n\\nLatchford, whose art collections have been displayed at New York’s Metropolitan Museum of Art and the British Museum allegedly used the offshore accounts to conceal profits from underground art trading. He was charged in 2019 with illegally offering important ancient Khmer Empire artefacts.\\n\\nThe British Museum in London and the Metropolitan Museum of Art in New York City were subject to criticism after purchasing several objects from the dealer. The BM stated that they take many precautions to ensure the items they acquire weren’t stolen and that standards for provenance have changed over the years.\\n\\nA Banksy mural has also turned up in the files, as have several paintings by Picasso, Modigliani and Monet. This is “The tip of the iceberg”, an inside source revealed.',\n",
              " \"Ex-adviser jailed after laundering money for organised crime group\\nAformer investment adviser has been sentenced to five years and ten months in prison for money laundering as part of an organised crime group.\\n\\nRichard Faithfull was convicted of laundering £2.5m as part of a trans-national crime group over a period of at least 12 months.\\n\\nHe was also disqualified from being a company director for a period of 10 years after the FCA found he had laundered the proceeds of at least seven professionally run overseas investment frauds.\\n\\nIn a statement released today (September 9), the Financial Conduct Authority said Faithfull was able to use the knowledge gained from working as a regulated investment adviser to help the fraudsters defraud their victims.\\n\\nThe victims were tricked into believing their investments were generating returns by fictional 'dividend' payments from bank accounts controlled by Faithfull. \\n\\n“He also involved innocent parties to help assist with his criminal enterprise,” the FCA added.\\n\\n“The operation was sophisticated, utilising multiple accounts and front companies in numerous jurisdictions.”\\n\\nTo avoid detection, Faithfull relocated to Ukraine where the FCA said he lived “a life of luxury” whilst continuing his criminal activities and enlisting the assistance of local criminal groups abroad.\\n\\nFollowing his arrest, he “spun a web of lies to try and throw the FCA off the case” but at his hearing he admitted he was a “thoroughly dishonest person”, the regulator added.\\n\\nFaithfull had previously pleaded guilty to the money laundering offence on April 16 this year, and put forward a basis of plea that sought to minimise his role in the offending, however the FCA did not accept this.\\n\\nThe matter was therefore listed for a Newton hearing (used when two sides offer such conflicting evidence that a judge sitting alone tries to ascertain the truth), to determine the basis upon which he should be sentenced. \\n\\nFollowing a four-day hearing the judge rejected the submissions made by Faithfull’s team and accepted the FCA’s statement of the case.\\n\\nThe sentencing judge said this was “serious offending” which was linked to the “human misery caused by boiler room fraud” and that “money coming in [to accounts controlled by Faithfull] was not being invested, it was simply being slaughtered”.\\n\\nMark Steward, executive director of enforcement and market oversight at the FCA, said Faithfull’s actions showed little compassion for those affected by the underlying criminality instead seeking only to make a profit for himself and others. \\n\\nHe added: “The FCA remain committed to ensuring that those who choose to break the law are brought to justice. We remind investors to check the FCA’s register as part of their due diligence when looking to make investments.”\\n\\nThe FCA will now pursue confiscation proceedings against him in order to try and seize his illegal gains.\\n\\nFaithfull is also to be sentenced separately regarding an Essex firearms offence. \\n\"]"
            ]
          },
          "metadata": {},
          "execution_count": 68
        }
      ]
    },
    {
      "cell_type": "code",
      "metadata": {
        "colab": {
          "base_uri": "https://localhost:8080/"
        },
        "id": "5cCojurl-htU",
        "outputId": "974d3a72-336b-4609-e9fb-184ca0f5ae69"
      },
      "source": [
        "ind_class[:3]"
      ],
      "execution_count": 69,
      "outputs": [
        {
          "output_type": "execute_result",
          "data": {
            "text/plain": [
              "[0, 0, 1]"
            ]
          },
          "metadata": {},
          "execution_count": 69
        }
      ]
    },
    {
      "cell_type": "markdown",
      "metadata": {
        "id": "9M6WwQHgBMSs"
      },
      "source": [
        "# Money Laundering activity detection"
      ]
    },
    {
      "cell_type": "markdown",
      "metadata": {
        "id": "fXFUAaYh7U6J"
      },
      "source": [
        "\n",
        "\n",
        "---\n",
        "\n",
        "\n",
        "\n",
        "---\n",
        "\n"
      ]
    },
    {
      "cell_type": "markdown",
      "metadata": {
        "id": "VMWs_dvwq5Sg"
      },
      "source": [
        "### Preprocessing hyperparameters"
      ]
    },
    {
      "cell_type": "code",
      "metadata": {
        "id": "9xw4ue9bz66U"
      },
      "source": [
        "words_cnt = 1000 # Tokenizing - most common words\n",
        "\n",
        "max_len = 200    # Pad sequences - each article has different number of words/sequences to make it even for all articles we will\n",
        "                  # use pad_sequences method reducing/extending each up to 1000 words\n",
        "\n",
        "target_dim = 10   # Embedding - we want to reduce dimensionality to 50"
      ],
      "execution_count": 70,
      "outputs": []
    },
    {
      "cell_type": "markdown",
      "metadata": {
        "id": "QGfUhUUfCVmH"
      },
      "source": [
        "## Stopwords"
      ]
    },
    {
      "cell_type": "code",
      "metadata": {
        "id": "lDseClBNCaQN"
      },
      "source": [
        "from gensim.parsing.preprocessing import remove_stopwords\n",
        "\n",
        "for i in range(len(ml_txt)):\n",
        "  ml_txt[i] = remove_stopwords(ml_txt[i])"
      ],
      "execution_count": 71,
      "outputs": []
    },
    {
      "cell_type": "markdown",
      "metadata": {
        "id": "0LR1pY1mIpgi"
      },
      "source": [
        "## Tokenizing"
      ]
    },
    {
      "cell_type": "code",
      "metadata": {
        "id": "fZui8EByAYbJ"
      },
      "source": [
        "ml_tokenizer = Tokenizer(num_words = words_cnt)\n",
        "ml_tokenizer.fit_on_texts(ml_txt)"
      ],
      "execution_count": 72,
      "outputs": []
    },
    {
      "cell_type": "code",
      "metadata": {
        "colab": {
          "base_uri": "https://localhost:8080/"
        },
        "id": "39bFHoMjI9IU",
        "outputId": "dcb58633-d500-4a7a-c4bc-19d242f08133"
      },
      "source": [
        "list(ml_tokenizer.index_word.items())[:20]"
      ],
      "execution_count": 73,
      "outputs": [
        {
          "output_type": "execute_result",
          "data": {
            "text/plain": [
              "[(1, 'the'),\n",
              " (2, 'money'),\n",
              " (3, 'said'),\n",
              " (4, 'laundering'),\n",
              " (5, 'climate'),\n",
              " (6, 'crypto'),\n",
              " (7, 'cryptocurrency'),\n",
              " (8, 'new'),\n",
              " (9, '”'),\n",
              " (10, 'people'),\n",
              " (11, 'tax'),\n",
              " (12, 'it'),\n",
              " (13, 'mr'),\n",
              " (14, 'in'),\n",
              " (15, 'court'),\n",
              " (16, 'property'),\n",
              " (17, 'change'),\n",
              " (18, 'year'),\n",
              " (19, 'funds'),\n",
              " (20, 'goxx')]"
            ]
          },
          "metadata": {},
          "execution_count": 73
        }
      ]
    },
    {
      "cell_type": "markdown",
      "metadata": {
        "id": "YBMZErIlcI9Y"
      },
      "source": [
        "## Sequencing"
      ]
    },
    {
      "cell_type": "code",
      "metadata": {
        "colab": {
          "base_uri": "https://localhost:8080/"
        },
        "id": "PLnClYQkJ7tB",
        "outputId": "303565e9-2c44-484e-cccd-d5fde431c0ec"
      },
      "source": [
        "# Sequencing - change each word in the article to ascribed token\n",
        "\n",
        "ml_sequence = ml_tokenizer.texts_to_sequences(ml_txt)\n",
        "len(ml_sequence)"
      ],
      "execution_count": 74,
      "outputs": [
        {
          "output_type": "execute_result",
          "data": {
            "text/plain": [
              "25"
            ]
          },
          "metadata": {},
          "execution_count": 74
        }
      ]
    },
    {
      "cell_type": "code",
      "metadata": {
        "colab": {
          "base_uri": "https://localhost:8080/"
        },
        "id": "FDduxV-MsAH4",
        "outputId": "1df39c96-6d7e-4114-c512-35363ea410a1"
      },
      "source": [
        "# Let's see x first tokenized words of specified article index\n",
        "\n",
        "ml_article_idx = 1\n",
        "ml_x = 10\n",
        "\n",
        "ml_sequence[ml_article_idx][:ml_x]"
      ],
      "execution_count": 75,
      "outputs": [
        {
          "output_type": "execute_result",
          "data": {
            "text/plain": [
              "[132, 865, 582, 583, 866, 224, 33, 132, 867, 868]"
            ]
          },
          "metadata": {},
          "execution_count": 75
        }
      ]
    },
    {
      "cell_type": "code",
      "metadata": {
        "colab": {
          "base_uri": "https://localhost:8080/"
        },
        "id": "Dp7Dohh0LRDw",
        "outputId": "a83afebd-e325-4e14-a1d8-869280faaf97"
      },
      "source": [
        "print('In Money Laundering train dataset we have {} unique words'.format(len(ml_tokenizer.word_index)))"
      ],
      "execution_count": 76,
      "outputs": [
        {
          "output_type": "stream",
          "name": "stdout",
          "text": [
            "In Money Laundering train dataset we have 3487 unique words\n"
          ]
        }
      ]
    },
    {
      "cell_type": "markdown",
      "metadata": {
        "id": "dzstCVfmcHRN"
      },
      "source": [
        "## Pad_sequences"
      ]
    },
    {
      "cell_type": "code",
      "metadata": {
        "colab": {
          "base_uri": "https://localhost:8080/"
        },
        "id": "due5LiDmL6zp",
        "outputId": "a26b80bc-a2d5-44c1-fb0b-34162408ff89"
      },
      "source": [
        "# Pad sequences - each article has different number of words/sequences to make it even for all articles we will use pad_sequences method reducing/extending each up to 1000 words\n",
        "\n",
        "ml_train_txt = pad_sequences(ml_sequence, maxlen = max_len)\n",
        "print(ml_train_txt)\n",
        "print('\\n')\n",
        "print(ml_train_txt.shape)"
      ],
      "execution_count": 77,
      "outputs": [
        {
          "output_type": "stream",
          "name": "stdout",
          "text": [
            "[[  0   0   0 ... 846 581  61]\n",
            " [  0   0   0 ... 411 298 590]\n",
            " [424 613 425 ... 894 413 309]\n",
            " ...\n",
            " [  0   0   0 ... 482 124 204]\n",
            " [  0   0   0 ...  69  56 836]\n",
            " [  1 477 773 ... 572   8 368]]\n",
            "\n",
            "\n",
            "(25, 200)\n"
          ]
        }
      ]
    },
    {
      "cell_type": "markdown",
      "metadata": {
        "id": "7wJREoBFcCY1"
      },
      "source": [
        "## Shuffeling"
      ]
    },
    {
      "cell_type": "code",
      "metadata": {
        "colab": {
          "base_uri": "https://localhost:8080/"
        },
        "id": "aWB1dFS3bXnK",
        "outputId": "c54cd84d-a044-44c5-bdcb-231a853036a5"
      },
      "source": [
        "# convert class list into an array for sake of shuffeling\n",
        "ml_train_class = np.asarray(ml_class)\n",
        "ml_train_class"
      ],
      "execution_count": 78,
      "outputs": [
        {
          "output_type": "execute_result",
          "data": {
            "text/plain": [
              "array([1, 0, 0, 0, 0, 1, 0, 0, 0, 0, 1, 1, 1, 1, 1, 1, 1, 1, 1, 1, 0, 0,\n",
              "       0, 0, 0])"
            ]
          },
          "metadata": {},
          "execution_count": 78
        }
      ]
    },
    {
      "cell_type": "code",
      "metadata": {
        "colab": {
          "base_uri": "https://localhost:8080/"
        },
        "id": "hN0pt_ebZIjx",
        "outputId": "2644fbd5-8355-4631-dfc3-baf6bfb785a6"
      },
      "source": [
        "ml_idx = np.arange(ml_train_txt.shape[0]) # create indexes array of ml_train\n",
        "np.random.shuffle(ml_idx) # shuffle\n",
        "ml_train_txt = ml_train_txt[ml_idx] # change order in texts\n",
        "ml_train_class = ml_train_class[ml_idx] # change order in class' in the same way\n",
        "print(ml_train_txt.shape)\n",
        "print(ml_train_class.shape)"
      ],
      "execution_count": 79,
      "outputs": [
        {
          "output_type": "stream",
          "name": "stdout",
          "text": [
            "(25, 200)\n",
            "(25,)\n"
          ]
        }
      ]
    },
    {
      "cell_type": "markdown",
      "metadata": {
        "id": "nFmXPBbXe7CD"
      },
      "source": [
        "## Train Validation split"
      ]
    },
    {
      "cell_type": "code",
      "metadata": {
        "colab": {
          "base_uri": "https://localhost:8080/"
        },
        "id": "rbZF68bie_a8",
        "outputId": "f074165c-cc15-4e51-9ca6-5f1bdfae5b37"
      },
      "source": [
        "ml_train_percent = 0.6\n",
        "ml_validation_percent = 0.2\n",
        "\n",
        "ml_separator = int(ml_train_percent * (ml_train_txt.shape[0]))\n",
        "ml_separator2 = int(ml_train_txt.shape[0] * ml_validation_percent) + ml_separator\n",
        "\n",
        "ml_X_train = ml_train_txt[:ml_separator]\n",
        "ml_y_train = ml_train_class[:ml_separator]\n",
        "\n",
        "ml_X_val = ml_train_txt[ml_separator:ml_separator2]\n",
        "ml_y_val = ml_train_class[ml_separator:ml_separator2]\n",
        "\n",
        "ml_X_test = ml_train_txt[ml_separator2:]\n",
        "ml_y_test = ml_train_class[ml_separator2:]\n",
        "\n",
        "print('X_train shape:',ml_X_train.shape)\n",
        "print('y_train shape:',ml_y_train.shape)\n",
        "print('X_val shape:',ml_X_val.shape)\n",
        "print('y_val shape:',ml_y_val.shape)\n",
        "print('X_test shape:',ml_X_test.shape)\n",
        "print('y_test shape:',ml_y_test.shape)"
      ],
      "execution_count": 80,
      "outputs": [
        {
          "output_type": "stream",
          "name": "stdout",
          "text": [
            "X_train shape: (15, 200)\n",
            "y_train shape: (15,)\n",
            "X_val shape: (5, 200)\n",
            "y_val shape: (5,)\n",
            "X_test shape: (5, 200)\n",
            "y_test shape: (5,)\n"
          ]
        }
      ]
    },
    {
      "cell_type": "markdown",
      "metadata": {
        "id": "wSHAZQ6bszyE"
      },
      "source": [
        "## Model"
      ]
    },
    {
      "cell_type": "markdown",
      "metadata": {
        "id": "ipsfBh5pnl9H"
      },
      "source": [
        "### Model hyperparameters"
      ]
    },
    {
      "cell_type": "code",
      "metadata": {
        "id": "jSghnYhtX0tp"
      },
      "source": [
        "optimizer = 'rmsprop'\n",
        "batch_size = 8\n",
        "epochs = 11"
      ],
      "execution_count": 81,
      "outputs": []
    },
    {
      "cell_type": "code",
      "metadata": {
        "colab": {
          "base_uri": "https://localhost:8080/"
        },
        "id": "mn1kca8gs1MO",
        "outputId": "7735f900-4d78-4944-dda9-691241933f73"
      },
      "source": [
        "ml_model = Sequential([\n",
        "                    Embedding(words_cnt, target_dim, input_length = max_len),\n",
        "                    Bidirectional(LSTM(100)),\n",
        "                    Dense(16, activation = 'relu'),\n",
        "                    Dense(1, activation = 'sigmoid')\n",
        "])\n",
        "ml_model.summary()"
      ],
      "execution_count": 82,
      "outputs": [
        {
          "output_type": "stream",
          "name": "stdout",
          "text": [
            "Model: \"sequential_4\"\n",
            "_________________________________________________________________\n",
            "Layer (type)                 Output Shape              Param #   \n",
            "=================================================================\n",
            "embedding_4 (Embedding)      (None, 200, 10)           10000     \n",
            "_________________________________________________________________\n",
            "bidirectional_4 (Bidirection (None, 200)               88800     \n",
            "_________________________________________________________________\n",
            "dense_12 (Dense)             (None, 16)                3216      \n",
            "_________________________________________________________________\n",
            "dense_13 (Dense)             (None, 1)                 17        \n",
            "=================================================================\n",
            "Total params: 102,033\n",
            "Trainable params: 102,033\n",
            "Non-trainable params: 0\n",
            "_________________________________________________________________\n"
          ]
        }
      ]
    },
    {
      "cell_type": "code",
      "metadata": {
        "id": "wmkYzmL-4Bkw"
      },
      "source": [
        "ml_model.compile(\n",
        "              optimizer = optimizer,\n",
        "              loss = 'binary_crossentropy',\n",
        "              metrics = ['accuracy']\n",
        ")"
      ],
      "execution_count": 83,
      "outputs": []
    },
    {
      "cell_type": "code",
      "metadata": {
        "colab": {
          "base_uri": "https://localhost:8080/"
        },
        "id": "t0v2zETy4Tc7",
        "outputId": "224aeadd-646a-49a6-e48b-f20713bc025e"
      },
      "source": [
        "ml_history = ml_model.fit(ml_X_train, ml_y_train, batch_size = batch_size, epochs = epochs, validation_data = (ml_X_val, ml_y_val))"
      ],
      "execution_count": 84,
      "outputs": [
        {
          "output_type": "stream",
          "name": "stdout",
          "text": [
            "Epoch 1/11\n",
            "2/2 [==============================] - 4s 932ms/step - loss: 0.6953 - accuracy: 0.3333 - val_loss: 0.6973 - val_accuracy: 0.4000\n",
            "Epoch 2/11\n",
            "2/2 [==============================] - 0s 214ms/step - loss: 0.6882 - accuracy: 0.6000 - val_loss: 0.7010 - val_accuracy: 0.4000\n",
            "Epoch 3/11\n",
            "2/2 [==============================] - 0s 202ms/step - loss: 0.6781 - accuracy: 0.6000 - val_loss: 0.7082 - val_accuracy: 0.4000\n",
            "Epoch 4/11\n",
            "2/2 [==============================] - 0s 217ms/step - loss: 0.7991 - accuracy: 0.6000 - val_loss: 0.7053 - val_accuracy: 0.4000\n",
            "Epoch 5/11\n",
            "2/2 [==============================] - 0s 204ms/step - loss: 0.6682 - accuracy: 0.6000 - val_loss: 0.7055 - val_accuracy: 0.4000\n",
            "Epoch 6/11\n",
            "2/2 [==============================] - 0s 211ms/step - loss: 0.6574 - accuracy: 0.6000 - val_loss: 0.7072 - val_accuracy: 0.4000\n",
            "Epoch 7/11\n",
            "2/2 [==============================] - 0s 202ms/step - loss: 0.6513 - accuracy: 0.6000 - val_loss: 0.7076 - val_accuracy: 0.4000\n",
            "Epoch 8/11\n",
            "2/2 [==============================] - 0s 225ms/step - loss: 0.6429 - accuracy: 0.6000 - val_loss: 0.7087 - val_accuracy: 0.4000\n",
            "Epoch 9/11\n",
            "2/2 [==============================] - 0s 211ms/step - loss: 0.6279 - accuracy: 0.8000 - val_loss: 0.7180 - val_accuracy: 0.4000\n",
            "Epoch 10/11\n",
            "2/2 [==============================] - 0s 215ms/step - loss: 0.6032 - accuracy: 0.7333 - val_loss: 1.5769 - val_accuracy: 0.4000\n",
            "Epoch 11/11\n",
            "2/2 [==============================] - 0s 200ms/step - loss: 0.7470 - accuracy: 0.6667 - val_loss: 0.6976 - val_accuracy: 0.4000\n"
          ]
        }
      ]
    },
    {
      "cell_type": "markdown",
      "metadata": {
        "id": "yTohN99Mer_c"
      },
      "source": [
        "## Train-Val Plot"
      ]
    },
    {
      "cell_type": "code",
      "metadata": {
        "colab": {
          "base_uri": "https://localhost:8080/",
          "height": 1000
        },
        "id": "LYciess05Aei",
        "outputId": "5c5c631e-1d07-470b-faba-bb78791038c5"
      },
      "source": [
        "def plot_history(history):\n",
        "  import pandas as pd\n",
        "  import plotly.graph_objects as go\n",
        "  hist = pd.DataFrame(history.history)\n",
        "  hist['epoch'] = history.epoch\n",
        "\n",
        "  fig = go.Figure()\n",
        "  fig.add_trace(go.Scatter(x = hist['epoch'], y = hist['accuracy'], name = 'accuracy', mode = 'markers+lines'))\n",
        "  fig.add_trace(go.Scatter(x = hist['epoch'], y = hist['val_accuracy'], name = 'val_accuracy', mode = 'markers+lines'))\n",
        "  fig.update_layout(width = 1000, height = 500, title = 'accuracy vs val. accuracy', xaxis_title = 'Epochs', yaxis_title = 'Accuracy', template = 'plotly_dark')\n",
        "  fig.show()\n",
        "\n",
        "  fig = go.Figure()\n",
        "  fig.add_trace(go.Scatter(x = hist['epoch'], y = hist['loss'], name = 'loss', mode = 'markers+lines'))\n",
        "  fig.add_trace(go.Scatter(x = hist['epoch'], y = hist['val_loss'], name = 'val_loss', mode = 'markers+lines'))\n",
        "  fig.update_layout(width = 1000, height = 500, title = 'loss vs val. loss', xaxis_title = 'Epochs', yaxis_title = 'Loss', template = 'plotly_dark')\n",
        "  fig.show()\n",
        "\n",
        "plot_history(ml_history)"
      ],
      "execution_count": 85,
      "outputs": [
        {
          "output_type": "display_data",
          "data": {
            "text/html": [
              "<html>\n",
              "<head><meta charset=\"utf-8\" /></head>\n",
              "<body>\n",
              "    <div>\n",
              "            <script src=\"https://cdnjs.cloudflare.com/ajax/libs/mathjax/2.7.5/MathJax.js?config=TeX-AMS-MML_SVG\"></script><script type=\"text/javascript\">if (window.MathJax) {MathJax.Hub.Config({SVG: {font: \"STIX-Web\"}});}</script>\n",
              "                <script type=\"text/javascript\">window.PlotlyConfig = {MathJaxConfig: 'local'};</script>\n",
              "        <script src=\"https://cdn.plot.ly/plotly-latest.min.js\"></script>    \n",
              "            <div id=\"3acdc595-77e6-4cba-a487-7295f9395efa\" class=\"plotly-graph-div\" style=\"height:500px; width:1000px;\"></div>\n",
              "            <script type=\"text/javascript\">\n",
              "                \n",
              "                    window.PLOTLYENV=window.PLOTLYENV || {};\n",
              "                    \n",
              "                if (document.getElementById(\"3acdc595-77e6-4cba-a487-7295f9395efa\")) {\n",
              "                    Plotly.newPlot(\n",
              "                        '3acdc595-77e6-4cba-a487-7295f9395efa',\n",
              "                        [{\"mode\": \"markers+lines\", \"name\": \"accuracy\", \"type\": \"scatter\", \"x\": [0, 1, 2, 3, 4, 5, 6, 7, 8, 9, 10], \"y\": [0.3333333432674408, 0.6000000238418579, 0.6000000238418579, 0.6000000238418579, 0.6000000238418579, 0.6000000238418579, 0.6000000238418579, 0.6000000238418579, 0.800000011920929, 0.7333333492279053, 0.6666666865348816]}, {\"mode\": \"markers+lines\", \"name\": \"val_accuracy\", \"type\": \"scatter\", \"x\": [0, 1, 2, 3, 4, 5, 6, 7, 8, 9, 10], \"y\": [0.4000000059604645, 0.4000000059604645, 0.4000000059604645, 0.4000000059604645, 0.4000000059604645, 0.4000000059604645, 0.4000000059604645, 0.4000000059604645, 0.4000000059604645, 0.4000000059604645, 0.4000000059604645]}],\n",
              "                        {\"height\": 500, \"template\": {\"data\": {\"bar\": [{\"error_x\": {\"color\": \"#f2f5fa\"}, \"error_y\": {\"color\": \"#f2f5fa\"}, \"marker\": {\"line\": {\"color\": \"rgb(17,17,17)\", \"width\": 0.5}}, \"type\": \"bar\"}], \"barpolar\": [{\"marker\": {\"line\": {\"color\": \"rgb(17,17,17)\", \"width\": 0.5}}, \"type\": \"barpolar\"}], \"carpet\": [{\"aaxis\": {\"endlinecolor\": \"#A2B1C6\", \"gridcolor\": \"#506784\", \"linecolor\": \"#506784\", \"minorgridcolor\": \"#506784\", \"startlinecolor\": \"#A2B1C6\"}, \"baxis\": {\"endlinecolor\": \"#A2B1C6\", \"gridcolor\": \"#506784\", \"linecolor\": \"#506784\", \"minorgridcolor\": \"#506784\", \"startlinecolor\": \"#A2B1C6\"}, \"type\": \"carpet\"}], \"choropleth\": [{\"colorbar\": {\"outlinewidth\": 0, \"ticks\": \"\"}, \"type\": \"choropleth\"}], \"contour\": [{\"colorbar\": {\"outlinewidth\": 0, \"ticks\": \"\"}, \"colorscale\": [[0.0, \"#0d0887\"], [0.1111111111111111, \"#46039f\"], [0.2222222222222222, \"#7201a8\"], [0.3333333333333333, \"#9c179e\"], [0.4444444444444444, \"#bd3786\"], [0.5555555555555556, \"#d8576b\"], [0.6666666666666666, \"#ed7953\"], [0.7777777777777778, \"#fb9f3a\"], [0.8888888888888888, \"#fdca26\"], [1.0, \"#f0f921\"]], \"type\": \"contour\"}], \"contourcarpet\": [{\"colorbar\": {\"outlinewidth\": 0, \"ticks\": \"\"}, \"type\": \"contourcarpet\"}], \"heatmap\": [{\"colorbar\": {\"outlinewidth\": 0, \"ticks\": \"\"}, \"colorscale\": [[0.0, \"#0d0887\"], [0.1111111111111111, \"#46039f\"], [0.2222222222222222, \"#7201a8\"], [0.3333333333333333, \"#9c179e\"], [0.4444444444444444, \"#bd3786\"], [0.5555555555555556, \"#d8576b\"], [0.6666666666666666, \"#ed7953\"], [0.7777777777777778, \"#fb9f3a\"], [0.8888888888888888, \"#fdca26\"], [1.0, \"#f0f921\"]], \"type\": \"heatmap\"}], \"heatmapgl\": [{\"colorbar\": {\"outlinewidth\": 0, \"ticks\": \"\"}, \"colorscale\": [[0.0, \"#0d0887\"], [0.1111111111111111, \"#46039f\"], [0.2222222222222222, \"#7201a8\"], [0.3333333333333333, \"#9c179e\"], [0.4444444444444444, \"#bd3786\"], [0.5555555555555556, \"#d8576b\"], [0.6666666666666666, \"#ed7953\"], [0.7777777777777778, \"#fb9f3a\"], [0.8888888888888888, \"#fdca26\"], [1.0, \"#f0f921\"]], \"type\": \"heatmapgl\"}], \"histogram\": [{\"marker\": {\"colorbar\": {\"outlinewidth\": 0, \"ticks\": \"\"}}, \"type\": \"histogram\"}], \"histogram2d\": [{\"colorbar\": {\"outlinewidth\": 0, \"ticks\": \"\"}, \"colorscale\": [[0.0, \"#0d0887\"], [0.1111111111111111, \"#46039f\"], [0.2222222222222222, \"#7201a8\"], [0.3333333333333333, \"#9c179e\"], [0.4444444444444444, \"#bd3786\"], [0.5555555555555556, \"#d8576b\"], [0.6666666666666666, \"#ed7953\"], [0.7777777777777778, \"#fb9f3a\"], [0.8888888888888888, \"#fdca26\"], [1.0, \"#f0f921\"]], \"type\": \"histogram2d\"}], \"histogram2dcontour\": [{\"colorbar\": {\"outlinewidth\": 0, \"ticks\": \"\"}, \"colorscale\": [[0.0, \"#0d0887\"], [0.1111111111111111, \"#46039f\"], [0.2222222222222222, \"#7201a8\"], [0.3333333333333333, \"#9c179e\"], [0.4444444444444444, \"#bd3786\"], [0.5555555555555556, \"#d8576b\"], [0.6666666666666666, \"#ed7953\"], [0.7777777777777778, \"#fb9f3a\"], [0.8888888888888888, \"#fdca26\"], [1.0, \"#f0f921\"]], \"type\": \"histogram2dcontour\"}], \"mesh3d\": [{\"colorbar\": {\"outlinewidth\": 0, \"ticks\": \"\"}, \"type\": \"mesh3d\"}], \"parcoords\": [{\"line\": {\"colorbar\": {\"outlinewidth\": 0, \"ticks\": \"\"}}, \"type\": \"parcoords\"}], \"pie\": [{\"automargin\": true, \"type\": \"pie\"}], \"scatter\": [{\"marker\": {\"line\": {\"color\": \"#283442\"}}, \"type\": \"scatter\"}], \"scatter3d\": [{\"line\": {\"colorbar\": {\"outlinewidth\": 0, \"ticks\": \"\"}}, \"marker\": {\"colorbar\": {\"outlinewidth\": 0, \"ticks\": \"\"}}, \"type\": \"scatter3d\"}], \"scattercarpet\": [{\"marker\": {\"colorbar\": {\"outlinewidth\": 0, \"ticks\": \"\"}}, \"type\": \"scattercarpet\"}], \"scattergeo\": [{\"marker\": {\"colorbar\": {\"outlinewidth\": 0, \"ticks\": \"\"}}, \"type\": \"scattergeo\"}], \"scattergl\": [{\"marker\": {\"line\": {\"color\": \"#283442\"}}, \"type\": \"scattergl\"}], \"scattermapbox\": [{\"marker\": {\"colorbar\": {\"outlinewidth\": 0, \"ticks\": \"\"}}, \"type\": \"scattermapbox\"}], \"scatterpolar\": [{\"marker\": {\"colorbar\": {\"outlinewidth\": 0, \"ticks\": \"\"}}, \"type\": \"scatterpolar\"}], \"scatterpolargl\": [{\"marker\": {\"colorbar\": {\"outlinewidth\": 0, \"ticks\": \"\"}}, \"type\": \"scatterpolargl\"}], \"scatterternary\": [{\"marker\": {\"colorbar\": {\"outlinewidth\": 0, \"ticks\": \"\"}}, \"type\": \"scatterternary\"}], \"surface\": [{\"colorbar\": {\"outlinewidth\": 0, \"ticks\": \"\"}, \"colorscale\": [[0.0, \"#0d0887\"], [0.1111111111111111, \"#46039f\"], [0.2222222222222222, \"#7201a8\"], [0.3333333333333333, \"#9c179e\"], [0.4444444444444444, \"#bd3786\"], [0.5555555555555556, \"#d8576b\"], [0.6666666666666666, \"#ed7953\"], [0.7777777777777778, \"#fb9f3a\"], [0.8888888888888888, \"#fdca26\"], [1.0, \"#f0f921\"]], \"type\": \"surface\"}], \"table\": [{\"cells\": {\"fill\": {\"color\": \"#506784\"}, \"line\": {\"color\": \"rgb(17,17,17)\"}}, \"header\": {\"fill\": {\"color\": \"#2a3f5f\"}, \"line\": {\"color\": \"rgb(17,17,17)\"}}, \"type\": \"table\"}]}, \"layout\": {\"annotationdefaults\": {\"arrowcolor\": \"#f2f5fa\", \"arrowhead\": 0, \"arrowwidth\": 1}, \"coloraxis\": {\"colorbar\": {\"outlinewidth\": 0, \"ticks\": \"\"}}, \"colorscale\": {\"diverging\": [[0, \"#8e0152\"], [0.1, \"#c51b7d\"], [0.2, \"#de77ae\"], [0.3, \"#f1b6da\"], [0.4, \"#fde0ef\"], [0.5, \"#f7f7f7\"], [0.6, \"#e6f5d0\"], [0.7, \"#b8e186\"], [0.8, \"#7fbc41\"], [0.9, \"#4d9221\"], [1, \"#276419\"]], \"sequential\": [[0.0, \"#0d0887\"], [0.1111111111111111, \"#46039f\"], [0.2222222222222222, \"#7201a8\"], [0.3333333333333333, \"#9c179e\"], [0.4444444444444444, \"#bd3786\"], [0.5555555555555556, \"#d8576b\"], [0.6666666666666666, \"#ed7953\"], [0.7777777777777778, \"#fb9f3a\"], [0.8888888888888888, \"#fdca26\"], [1.0, \"#f0f921\"]], \"sequentialminus\": [[0.0, \"#0d0887\"], [0.1111111111111111, \"#46039f\"], [0.2222222222222222, \"#7201a8\"], [0.3333333333333333, \"#9c179e\"], [0.4444444444444444, \"#bd3786\"], [0.5555555555555556, \"#d8576b\"], [0.6666666666666666, \"#ed7953\"], [0.7777777777777778, \"#fb9f3a\"], [0.8888888888888888, \"#fdca26\"], [1.0, \"#f0f921\"]]}, \"colorway\": [\"#636efa\", \"#EF553B\", \"#00cc96\", \"#ab63fa\", \"#FFA15A\", \"#19d3f3\", \"#FF6692\", \"#B6E880\", \"#FF97FF\", \"#FECB52\"], \"font\": {\"color\": \"#f2f5fa\"}, \"geo\": {\"bgcolor\": \"rgb(17,17,17)\", \"lakecolor\": \"rgb(17,17,17)\", \"landcolor\": \"rgb(17,17,17)\", \"showlakes\": true, \"showland\": true, \"subunitcolor\": \"#506784\"}, \"hoverlabel\": {\"align\": \"left\"}, \"hovermode\": \"closest\", \"mapbox\": {\"style\": \"dark\"}, \"paper_bgcolor\": \"rgb(17,17,17)\", \"plot_bgcolor\": \"rgb(17,17,17)\", \"polar\": {\"angularaxis\": {\"gridcolor\": \"#506784\", \"linecolor\": \"#506784\", \"ticks\": \"\"}, \"bgcolor\": \"rgb(17,17,17)\", \"radialaxis\": {\"gridcolor\": \"#506784\", \"linecolor\": \"#506784\", \"ticks\": \"\"}}, \"scene\": {\"xaxis\": {\"backgroundcolor\": \"rgb(17,17,17)\", \"gridcolor\": \"#506784\", \"gridwidth\": 2, \"linecolor\": \"#506784\", \"showbackground\": true, \"ticks\": \"\", \"zerolinecolor\": \"#C8D4E3\"}, \"yaxis\": {\"backgroundcolor\": \"rgb(17,17,17)\", \"gridcolor\": \"#506784\", \"gridwidth\": 2, \"linecolor\": \"#506784\", \"showbackground\": true, \"ticks\": \"\", \"zerolinecolor\": \"#C8D4E3\"}, \"zaxis\": {\"backgroundcolor\": \"rgb(17,17,17)\", \"gridcolor\": \"#506784\", \"gridwidth\": 2, \"linecolor\": \"#506784\", \"showbackground\": true, \"ticks\": \"\", \"zerolinecolor\": \"#C8D4E3\"}}, \"shapedefaults\": {\"line\": {\"color\": \"#f2f5fa\"}}, \"sliderdefaults\": {\"bgcolor\": \"#C8D4E3\", \"bordercolor\": \"rgb(17,17,17)\", \"borderwidth\": 1, \"tickwidth\": 0}, \"ternary\": {\"aaxis\": {\"gridcolor\": \"#506784\", \"linecolor\": \"#506784\", \"ticks\": \"\"}, \"baxis\": {\"gridcolor\": \"#506784\", \"linecolor\": \"#506784\", \"ticks\": \"\"}, \"bgcolor\": \"rgb(17,17,17)\", \"caxis\": {\"gridcolor\": \"#506784\", \"linecolor\": \"#506784\", \"ticks\": \"\"}}, \"title\": {\"x\": 0.05}, \"updatemenudefaults\": {\"bgcolor\": \"#506784\", \"borderwidth\": 0}, \"xaxis\": {\"automargin\": true, \"gridcolor\": \"#283442\", \"linecolor\": \"#506784\", \"ticks\": \"\", \"title\": {\"standoff\": 15}, \"zerolinecolor\": \"#283442\", \"zerolinewidth\": 2}, \"yaxis\": {\"automargin\": true, \"gridcolor\": \"#283442\", \"linecolor\": \"#506784\", \"ticks\": \"\", \"title\": {\"standoff\": 15}, \"zerolinecolor\": \"#283442\", \"zerolinewidth\": 2}}}, \"title\": {\"text\": \"accuracy vs val. accuracy\"}, \"width\": 1000, \"xaxis\": {\"title\": {\"text\": \"Epochs\"}}, \"yaxis\": {\"title\": {\"text\": \"Accuracy\"}}},\n",
              "                        {\"responsive\": true}\n",
              "                    ).then(function(){\n",
              "                            \n",
              "var gd = document.getElementById('3acdc595-77e6-4cba-a487-7295f9395efa');\n",
              "var x = new MutationObserver(function (mutations, observer) {{\n",
              "        var display = window.getComputedStyle(gd).display;\n",
              "        if (!display || display === 'none') {{\n",
              "            console.log([gd, 'removed!']);\n",
              "            Plotly.purge(gd);\n",
              "            observer.disconnect();\n",
              "        }}\n",
              "}});\n",
              "\n",
              "// Listen for the removal of the full notebook cells\n",
              "var notebookContainer = gd.closest('#notebook-container');\n",
              "if (notebookContainer) {{\n",
              "    x.observe(notebookContainer, {childList: true});\n",
              "}}\n",
              "\n",
              "// Listen for the clearing of the current output cell\n",
              "var outputEl = gd.closest('.output');\n",
              "if (outputEl) {{\n",
              "    x.observe(outputEl, {childList: true});\n",
              "}}\n",
              "\n",
              "                        })\n",
              "                };\n",
              "                \n",
              "            </script>\n",
              "        </div>\n",
              "</body>\n",
              "</html>"
            ]
          },
          "metadata": {}
        },
        {
          "output_type": "display_data",
          "data": {
            "text/html": [
              "<html>\n",
              "<head><meta charset=\"utf-8\" /></head>\n",
              "<body>\n",
              "    <div>\n",
              "            <script src=\"https://cdnjs.cloudflare.com/ajax/libs/mathjax/2.7.5/MathJax.js?config=TeX-AMS-MML_SVG\"></script><script type=\"text/javascript\">if (window.MathJax) {MathJax.Hub.Config({SVG: {font: \"STIX-Web\"}});}</script>\n",
              "                <script type=\"text/javascript\">window.PlotlyConfig = {MathJaxConfig: 'local'};</script>\n",
              "        <script src=\"https://cdn.plot.ly/plotly-latest.min.js\"></script>    \n",
              "            <div id=\"8d49f90c-d23b-4a02-ac03-4239ca7bf2fe\" class=\"plotly-graph-div\" style=\"height:500px; width:1000px;\"></div>\n",
              "            <script type=\"text/javascript\">\n",
              "                \n",
              "                    window.PLOTLYENV=window.PLOTLYENV || {};\n",
              "                    \n",
              "                if (document.getElementById(\"8d49f90c-d23b-4a02-ac03-4239ca7bf2fe\")) {\n",
              "                    Plotly.newPlot(\n",
              "                        '8d49f90c-d23b-4a02-ac03-4239ca7bf2fe',\n",
              "                        [{\"mode\": \"markers+lines\", \"name\": \"loss\", \"type\": \"scatter\", \"x\": [0, 1, 2, 3, 4, 5, 6, 7, 8, 9, 10], \"y\": [0.6952996850013733, 0.6882120966911316, 0.6780824065208435, 0.7991429567337036, 0.6682038903236389, 0.6573750972747803, 0.6513375043869019, 0.6429135203361511, 0.627923846244812, 0.6032484769821167, 0.747042715549469]}, {\"mode\": \"markers+lines\", \"name\": \"val_loss\", \"type\": \"scatter\", \"x\": [0, 1, 2, 3, 4, 5, 6, 7, 8, 9, 10], \"y\": [0.6972528696060181, 0.7010248899459839, 0.7082343697547913, 0.7053147554397583, 0.7054939270019531, 0.7071713209152222, 0.7076199054718018, 0.7086523771286011, 0.7179933190345764, 1.5768667459487915, 0.6975735425949097]}],\n",
              "                        {\"height\": 500, \"template\": {\"data\": {\"bar\": [{\"error_x\": {\"color\": \"#f2f5fa\"}, \"error_y\": {\"color\": \"#f2f5fa\"}, \"marker\": {\"line\": {\"color\": \"rgb(17,17,17)\", \"width\": 0.5}}, \"type\": \"bar\"}], \"barpolar\": [{\"marker\": {\"line\": {\"color\": \"rgb(17,17,17)\", \"width\": 0.5}}, \"type\": \"barpolar\"}], \"carpet\": [{\"aaxis\": {\"endlinecolor\": \"#A2B1C6\", \"gridcolor\": \"#506784\", \"linecolor\": \"#506784\", \"minorgridcolor\": \"#506784\", \"startlinecolor\": \"#A2B1C6\"}, \"baxis\": {\"endlinecolor\": \"#A2B1C6\", \"gridcolor\": \"#506784\", \"linecolor\": \"#506784\", \"minorgridcolor\": \"#506784\", \"startlinecolor\": \"#A2B1C6\"}, \"type\": \"carpet\"}], \"choropleth\": [{\"colorbar\": {\"outlinewidth\": 0, \"ticks\": \"\"}, \"type\": \"choropleth\"}], \"contour\": [{\"colorbar\": {\"outlinewidth\": 0, \"ticks\": \"\"}, \"colorscale\": [[0.0, \"#0d0887\"], [0.1111111111111111, \"#46039f\"], [0.2222222222222222, \"#7201a8\"], [0.3333333333333333, \"#9c179e\"], [0.4444444444444444, \"#bd3786\"], [0.5555555555555556, \"#d8576b\"], [0.6666666666666666, \"#ed7953\"], [0.7777777777777778, \"#fb9f3a\"], [0.8888888888888888, \"#fdca26\"], [1.0, \"#f0f921\"]], \"type\": \"contour\"}], \"contourcarpet\": [{\"colorbar\": {\"outlinewidth\": 0, \"ticks\": \"\"}, \"type\": \"contourcarpet\"}], \"heatmap\": [{\"colorbar\": {\"outlinewidth\": 0, \"ticks\": \"\"}, \"colorscale\": [[0.0, \"#0d0887\"], [0.1111111111111111, \"#46039f\"], [0.2222222222222222, \"#7201a8\"], [0.3333333333333333, \"#9c179e\"], [0.4444444444444444, \"#bd3786\"], [0.5555555555555556, \"#d8576b\"], [0.6666666666666666, \"#ed7953\"], [0.7777777777777778, \"#fb9f3a\"], [0.8888888888888888, \"#fdca26\"], [1.0, \"#f0f921\"]], \"type\": \"heatmap\"}], \"heatmapgl\": [{\"colorbar\": {\"outlinewidth\": 0, \"ticks\": \"\"}, \"colorscale\": [[0.0, \"#0d0887\"], [0.1111111111111111, \"#46039f\"], [0.2222222222222222, \"#7201a8\"], [0.3333333333333333, \"#9c179e\"], [0.4444444444444444, \"#bd3786\"], [0.5555555555555556, \"#d8576b\"], [0.6666666666666666, \"#ed7953\"], [0.7777777777777778, \"#fb9f3a\"], [0.8888888888888888, \"#fdca26\"], [1.0, \"#f0f921\"]], \"type\": \"heatmapgl\"}], \"histogram\": [{\"marker\": {\"colorbar\": {\"outlinewidth\": 0, \"ticks\": \"\"}}, \"type\": \"histogram\"}], \"histogram2d\": [{\"colorbar\": {\"outlinewidth\": 0, \"ticks\": \"\"}, \"colorscale\": [[0.0, \"#0d0887\"], [0.1111111111111111, \"#46039f\"], [0.2222222222222222, \"#7201a8\"], [0.3333333333333333, \"#9c179e\"], [0.4444444444444444, \"#bd3786\"], [0.5555555555555556, \"#d8576b\"], [0.6666666666666666, \"#ed7953\"], [0.7777777777777778, \"#fb9f3a\"], [0.8888888888888888, \"#fdca26\"], [1.0, \"#f0f921\"]], \"type\": \"histogram2d\"}], \"histogram2dcontour\": [{\"colorbar\": {\"outlinewidth\": 0, \"ticks\": \"\"}, \"colorscale\": [[0.0, \"#0d0887\"], [0.1111111111111111, \"#46039f\"], [0.2222222222222222, \"#7201a8\"], [0.3333333333333333, \"#9c179e\"], [0.4444444444444444, \"#bd3786\"], [0.5555555555555556, \"#d8576b\"], [0.6666666666666666, \"#ed7953\"], [0.7777777777777778, \"#fb9f3a\"], [0.8888888888888888, \"#fdca26\"], [1.0, \"#f0f921\"]], \"type\": \"histogram2dcontour\"}], \"mesh3d\": [{\"colorbar\": {\"outlinewidth\": 0, \"ticks\": \"\"}, \"type\": \"mesh3d\"}], \"parcoords\": [{\"line\": {\"colorbar\": {\"outlinewidth\": 0, \"ticks\": \"\"}}, \"type\": \"parcoords\"}], \"pie\": [{\"automargin\": true, \"type\": \"pie\"}], \"scatter\": [{\"marker\": {\"line\": {\"color\": \"#283442\"}}, \"type\": \"scatter\"}], \"scatter3d\": [{\"line\": {\"colorbar\": {\"outlinewidth\": 0, \"ticks\": \"\"}}, \"marker\": {\"colorbar\": {\"outlinewidth\": 0, \"ticks\": \"\"}}, \"type\": \"scatter3d\"}], \"scattercarpet\": [{\"marker\": {\"colorbar\": {\"outlinewidth\": 0, \"ticks\": \"\"}}, \"type\": \"scattercarpet\"}], \"scattergeo\": [{\"marker\": {\"colorbar\": {\"outlinewidth\": 0, \"ticks\": \"\"}}, \"type\": \"scattergeo\"}], \"scattergl\": [{\"marker\": {\"line\": {\"color\": \"#283442\"}}, \"type\": \"scattergl\"}], \"scattermapbox\": [{\"marker\": {\"colorbar\": {\"outlinewidth\": 0, \"ticks\": \"\"}}, \"type\": \"scattermapbox\"}], \"scatterpolar\": [{\"marker\": {\"colorbar\": {\"outlinewidth\": 0, \"ticks\": \"\"}}, \"type\": \"scatterpolar\"}], \"scatterpolargl\": [{\"marker\": {\"colorbar\": {\"outlinewidth\": 0, \"ticks\": \"\"}}, \"type\": \"scatterpolargl\"}], \"scatterternary\": [{\"marker\": {\"colorbar\": {\"outlinewidth\": 0, \"ticks\": \"\"}}, \"type\": \"scatterternary\"}], \"surface\": [{\"colorbar\": {\"outlinewidth\": 0, \"ticks\": \"\"}, \"colorscale\": [[0.0, \"#0d0887\"], [0.1111111111111111, \"#46039f\"], [0.2222222222222222, \"#7201a8\"], [0.3333333333333333, \"#9c179e\"], [0.4444444444444444, \"#bd3786\"], [0.5555555555555556, \"#d8576b\"], [0.6666666666666666, \"#ed7953\"], [0.7777777777777778, \"#fb9f3a\"], [0.8888888888888888, \"#fdca26\"], [1.0, \"#f0f921\"]], \"type\": \"surface\"}], \"table\": [{\"cells\": {\"fill\": {\"color\": \"#506784\"}, \"line\": {\"color\": \"rgb(17,17,17)\"}}, \"header\": {\"fill\": {\"color\": \"#2a3f5f\"}, \"line\": {\"color\": \"rgb(17,17,17)\"}}, \"type\": \"table\"}]}, \"layout\": {\"annotationdefaults\": {\"arrowcolor\": \"#f2f5fa\", \"arrowhead\": 0, \"arrowwidth\": 1}, \"coloraxis\": {\"colorbar\": {\"outlinewidth\": 0, \"ticks\": \"\"}}, \"colorscale\": {\"diverging\": [[0, \"#8e0152\"], [0.1, \"#c51b7d\"], [0.2, \"#de77ae\"], [0.3, \"#f1b6da\"], [0.4, \"#fde0ef\"], [0.5, \"#f7f7f7\"], [0.6, \"#e6f5d0\"], [0.7, \"#b8e186\"], [0.8, \"#7fbc41\"], [0.9, \"#4d9221\"], [1, \"#276419\"]], \"sequential\": [[0.0, \"#0d0887\"], [0.1111111111111111, \"#46039f\"], [0.2222222222222222, \"#7201a8\"], [0.3333333333333333, \"#9c179e\"], [0.4444444444444444, \"#bd3786\"], [0.5555555555555556, \"#d8576b\"], [0.6666666666666666, \"#ed7953\"], [0.7777777777777778, \"#fb9f3a\"], [0.8888888888888888, \"#fdca26\"], [1.0, \"#f0f921\"]], \"sequentialminus\": [[0.0, \"#0d0887\"], [0.1111111111111111, \"#46039f\"], [0.2222222222222222, \"#7201a8\"], [0.3333333333333333, \"#9c179e\"], [0.4444444444444444, \"#bd3786\"], [0.5555555555555556, \"#d8576b\"], [0.6666666666666666, \"#ed7953\"], [0.7777777777777778, \"#fb9f3a\"], [0.8888888888888888, \"#fdca26\"], [1.0, \"#f0f921\"]]}, \"colorway\": [\"#636efa\", \"#EF553B\", \"#00cc96\", \"#ab63fa\", \"#FFA15A\", \"#19d3f3\", \"#FF6692\", \"#B6E880\", \"#FF97FF\", \"#FECB52\"], \"font\": {\"color\": \"#f2f5fa\"}, \"geo\": {\"bgcolor\": \"rgb(17,17,17)\", \"lakecolor\": \"rgb(17,17,17)\", \"landcolor\": \"rgb(17,17,17)\", \"showlakes\": true, \"showland\": true, \"subunitcolor\": \"#506784\"}, \"hoverlabel\": {\"align\": \"left\"}, \"hovermode\": \"closest\", \"mapbox\": {\"style\": \"dark\"}, \"paper_bgcolor\": \"rgb(17,17,17)\", \"plot_bgcolor\": \"rgb(17,17,17)\", \"polar\": {\"angularaxis\": {\"gridcolor\": \"#506784\", \"linecolor\": \"#506784\", \"ticks\": \"\"}, \"bgcolor\": \"rgb(17,17,17)\", \"radialaxis\": {\"gridcolor\": \"#506784\", \"linecolor\": \"#506784\", \"ticks\": \"\"}}, \"scene\": {\"xaxis\": {\"backgroundcolor\": \"rgb(17,17,17)\", \"gridcolor\": \"#506784\", \"gridwidth\": 2, \"linecolor\": \"#506784\", \"showbackground\": true, \"ticks\": \"\", \"zerolinecolor\": \"#C8D4E3\"}, \"yaxis\": {\"backgroundcolor\": \"rgb(17,17,17)\", \"gridcolor\": \"#506784\", \"gridwidth\": 2, \"linecolor\": \"#506784\", \"showbackground\": true, \"ticks\": \"\", \"zerolinecolor\": \"#C8D4E3\"}, \"zaxis\": {\"backgroundcolor\": \"rgb(17,17,17)\", \"gridcolor\": \"#506784\", \"gridwidth\": 2, \"linecolor\": \"#506784\", \"showbackground\": true, \"ticks\": \"\", \"zerolinecolor\": \"#C8D4E3\"}}, \"shapedefaults\": {\"line\": {\"color\": \"#f2f5fa\"}}, \"sliderdefaults\": {\"bgcolor\": \"#C8D4E3\", \"bordercolor\": \"rgb(17,17,17)\", \"borderwidth\": 1, \"tickwidth\": 0}, \"ternary\": {\"aaxis\": {\"gridcolor\": \"#506784\", \"linecolor\": \"#506784\", \"ticks\": \"\"}, \"baxis\": {\"gridcolor\": \"#506784\", \"linecolor\": \"#506784\", \"ticks\": \"\"}, \"bgcolor\": \"rgb(17,17,17)\", \"caxis\": {\"gridcolor\": \"#506784\", \"linecolor\": \"#506784\", \"ticks\": \"\"}}, \"title\": {\"x\": 0.05}, \"updatemenudefaults\": {\"bgcolor\": \"#506784\", \"borderwidth\": 0}, \"xaxis\": {\"automargin\": true, \"gridcolor\": \"#283442\", \"linecolor\": \"#506784\", \"ticks\": \"\", \"title\": {\"standoff\": 15}, \"zerolinecolor\": \"#283442\", \"zerolinewidth\": 2}, \"yaxis\": {\"automargin\": true, \"gridcolor\": \"#283442\", \"linecolor\": \"#506784\", \"ticks\": \"\", \"title\": {\"standoff\": 15}, \"zerolinecolor\": \"#283442\", \"zerolinewidth\": 2}}}, \"title\": {\"text\": \"loss vs val. loss\"}, \"width\": 1000, \"xaxis\": {\"title\": {\"text\": \"Epochs\"}}, \"yaxis\": {\"title\": {\"text\": \"Loss\"}}},\n",
              "                        {\"responsive\": true}\n",
              "                    ).then(function(){\n",
              "                            \n",
              "var gd = document.getElementById('8d49f90c-d23b-4a02-ac03-4239ca7bf2fe');\n",
              "var x = new MutationObserver(function (mutations, observer) {{\n",
              "        var display = window.getComputedStyle(gd).display;\n",
              "        if (!display || display === 'none') {{\n",
              "            console.log([gd, 'removed!']);\n",
              "            Plotly.purge(gd);\n",
              "            observer.disconnect();\n",
              "        }}\n",
              "}});\n",
              "\n",
              "// Listen for the removal of the full notebook cells\n",
              "var notebookContainer = gd.closest('#notebook-container');\n",
              "if (notebookContainer) {{\n",
              "    x.observe(notebookContainer, {childList: true});\n",
              "}}\n",
              "\n",
              "// Listen for the clearing of the current output cell\n",
              "var outputEl = gd.closest('.output');\n",
              "if (outputEl) {{\n",
              "    x.observe(outputEl, {childList: true});\n",
              "}}\n",
              "\n",
              "                        })\n",
              "                };\n",
              "                \n",
              "            </script>\n",
              "        </div>\n",
              "</body>\n",
              "</html>"
            ]
          },
          "metadata": {}
        }
      ]
    },
    {
      "cell_type": "markdown",
      "metadata": {
        "id": "c59Pi7e4eutw"
      },
      "source": [
        "## Evaluate"
      ]
    },
    {
      "cell_type": "code",
      "metadata": {
        "colab": {
          "base_uri": "https://localhost:8080/"
        },
        "id": "Csh7R4b9EFWX",
        "outputId": "e767970d-b4ce-4e3d-d62b-09edbbf7425f"
      },
      "source": [
        "ml_evaluate = ml_model.evaluate(ml_X_test, ml_y_test, verbose = 0)\n",
        "\n",
        "print('Model loss on test set:',round(ml_evaluate[0],2))\n",
        "print('Model accuracy on test set:',round(ml_evaluate[1],2))"
      ],
      "execution_count": 86,
      "outputs": [
        {
          "output_type": "stream",
          "name": "stdout",
          "text": [
            "Model loss on test set: 0.73\n",
            "Model accuracy on test set: 0.2\n"
          ]
        }
      ]
    },
    {
      "cell_type": "markdown",
      "metadata": {
        "id": "IPV-faLptBuJ"
      },
      "source": [
        "As we can see model didn't perform well. Obviously it is overfitting. For better performance we need better data set assembled from more articles."
      ]
    },
    {
      "cell_type": "markdown",
      "metadata": {
        "id": "8PwSHl_3HkEy"
      },
      "source": [
        "## Save model"
      ]
    },
    {
      "cell_type": "code",
      "metadata": {
        "colab": {
          "base_uri": "https://localhost:8080/"
        },
        "id": "QorwIZzNHoSd",
        "outputId": "27991be0-bb4b-4a48-a16c-b6f49d0101bd"
      },
      "source": [
        "ml_model.save('ml_model')"
      ],
      "execution_count": 87,
      "outputs": [
        {
          "output_type": "stream",
          "name": "stderr",
          "text": [
            "WARNING:absl:Found untraced functions such as lstm_cell_25_layer_call_fn, lstm_cell_25_layer_call_and_return_conditional_losses, lstm_cell_26_layer_call_fn, lstm_cell_26_layer_call_and_return_conditional_losses, lstm_cell_25_layer_call_fn while saving (showing 5 of 10). These functions will not be directly callable after loading.\n"
          ]
        },
        {
          "output_type": "stream",
          "name": "stdout",
          "text": [
            "INFO:tensorflow:Assets written to: ml_model/assets\n"
          ]
        },
        {
          "output_type": "stream",
          "name": "stderr",
          "text": [
            "INFO:tensorflow:Assets written to: ml_model/assets\n"
          ]
        }
      ]
    },
    {
      "cell_type": "markdown",
      "metadata": {
        "id": "zOP6LTEGBTZF"
      },
      "source": [
        "# Allegation and Conviction detection"
      ]
    },
    {
      "cell_type": "markdown",
      "metadata": {
        "id": "jHQzWiRg7Tvl"
      },
      "source": [
        "\n",
        "\n",
        "---\n",
        "\n",
        "\n",
        "\n",
        "---\n",
        "\n"
      ]
    },
    {
      "cell_type": "markdown",
      "metadata": {
        "id": "RMlZPJp6OjPh"
      },
      "source": [
        "## Full code"
      ]
    },
    {
      "cell_type": "code",
      "metadata": {
        "colab": {
          "base_uri": "https://localhost:8080/",
          "height": 1000
        },
        "id": "08GCImjLHPri",
        "outputId": "e1c70144-cb85-4684-8ffd-88c764648a2a"
      },
      "source": [
        "### STOPWORDS ###\n",
        "for i in range(len(ind_txt)):\n",
        "  ind_txt[i] = remove_stopwords(ind_txt[i])\n",
        "\n",
        "### TOKENIZING ###\n",
        "ind_tokenizer = Tokenizer(num_words = words_cnt)\n",
        "ind_tokenizer.fit_on_texts(ind_txt)\n",
        "\n",
        "### SEQUENCING ###\n",
        "ind_sequence = ind_tokenizer.texts_to_sequences(ind_txt)\n",
        "\n",
        "### PAD SEQUENCES ###\n",
        "ind_train_txt = pad_sequences(ind_sequence, maxlen = max_len)\n",
        "\n",
        "### SHUFFELING ###\n",
        "ind_train_class = np.asarray(ind_class)\n",
        "\n",
        "ind_idx = np.arange(ind_train_txt.shape[0]) # create indexes array of ml_train\n",
        "np.random.shuffle(ind_idx) # shuffle\n",
        "ind_train_txt = ind_train_txt[ind_idx] # change order in texts\n",
        "ind_train_class = ind_train_class[ind_idx] \n",
        "\n",
        "### TRAIN-VAL-TEST SPLIT ###\n",
        "ind_train_percent = 0.6\n",
        "ind_validation_percent = 0.2\n",
        "\n",
        "ind_separator = int(ind_train_percent * (ind_train_txt.shape[0]))\n",
        "ind_separator2 = int(ind_train_txt.shape[0] * ind_validation_percent) + ind_separator\n",
        "\n",
        "ind_X_train = ind_train_txt[:ind_separator]\n",
        "ind_y_train = ind_train_class[:ind_separator]\n",
        "\n",
        "ind_X_val = ind_train_txt[ind_separator:ind_separator2]\n",
        "ind_y_val = ind_train_class[ind_separator:ind_separator2]\n",
        "\n",
        "ind_X_test = ind_train_txt[ind_separator2:]\n",
        "ind_y_test = ind_train_class[ind_separator2:]\n",
        "\n",
        "### MODEL ###\n",
        "ind_model = Sequential([\n",
        "                    Embedding(words_cnt, target_dim, input_length = max_len),\n",
        "                    Bidirectional(LSTM(100)),\n",
        "                    Dense(32, activation = 'selu'),\n",
        "                    Dense(32, activation = 'relu'),\n",
        "                    Dense(16),\n",
        "                    Dense(1, activation = 'sigmoid')\n",
        "])\n",
        "\n",
        "ind_model.compile(\n",
        "              optimizer = optimizer,\n",
        "              loss = 'binary_crossentropy',\n",
        "              metrics = ['accuracy']\n",
        ")\n",
        "\n",
        "ind_history = ind_model.fit(ind_X_train, ind_y_train, batch_size = batch_size, epochs = epochs, validation_data = (ind_X_val, ind_y_val))\n",
        "print('\\n\\n')\n",
        "\n",
        "### TRAIN-VAL PLOT ###\n",
        "plot_history(ind_history)\n",
        "print('\\n\\n')\n",
        "\n",
        "### EVALUATE ###\n",
        "ind_evaluate = ind_model.evaluate(ind_X_test, ind_y_test, verbose = 0)\n",
        "\n",
        "print('Model loss on test set:',round(ind_evaluate[0],2))\n",
        "print('Model accuracy on test set:',round(ind_evaluate[1],2))\n",
        "\n",
        "## SAVE MODEL ###\n",
        "ind_model.save('ind_model')"
      ],
      "execution_count": 88,
      "outputs": [
        {
          "output_type": "stream",
          "name": "stdout",
          "text": [
            "Epoch 1/11\n",
            "2/2 [==============================] - 5s 970ms/step - loss: 0.6915 - accuracy: 0.7500 - val_loss: 0.6869 - val_accuracy: 0.5000\n",
            "Epoch 2/11\n",
            "2/2 [==============================] - 0s 191ms/step - loss: 0.6715 - accuracy: 0.6667 - val_loss: 0.6830 - val_accuracy: 0.5000\n",
            "Epoch 3/11\n",
            "2/2 [==============================] - 0s 188ms/step - loss: 0.6314 - accuracy: 0.6667 - val_loss: 0.6576 - val_accuracy: 0.5000\n",
            "Epoch 4/11\n",
            "2/2 [==============================] - 0s 190ms/step - loss: 1.0492 - accuracy: 0.8333 - val_loss: 0.6549 - val_accuracy: 0.5000\n",
            "Epoch 5/11\n",
            "2/2 [==============================] - 0s 199ms/step - loss: 0.5585 - accuracy: 1.0000 - val_loss: 0.6401 - val_accuracy: 0.5000\n",
            "Epoch 6/11\n",
            "2/2 [==============================] - 0s 196ms/step - loss: 0.4769 - accuracy: 1.0000 - val_loss: 0.8009 - val_accuracy: 0.5000\n",
            "Epoch 7/11\n",
            "2/2 [==============================] - 0s 190ms/step - loss: 0.4377 - accuracy: 0.8333 - val_loss: 0.6143 - val_accuracy: 0.5000\n",
            "Epoch 8/11\n",
            "2/2 [==============================] - 0s 189ms/step - loss: 0.3480 - accuracy: 1.0000 - val_loss: 0.5658 - val_accuracy: 0.7500\n",
            "Epoch 9/11\n",
            "2/2 [==============================] - 0s 201ms/step - loss: 0.2692 - accuracy: 1.0000 - val_loss: 1.5443 - val_accuracy: 0.5000\n",
            "Epoch 10/11\n",
            "2/2 [==============================] - 0s 202ms/step - loss: 0.6333 - accuracy: 0.6667 - val_loss: 0.6196 - val_accuracy: 0.7500\n",
            "Epoch 11/11\n",
            "2/2 [==============================] - 0s 191ms/step - loss: 0.2679 - accuracy: 1.0000 - val_loss: 0.6711 - val_accuracy: 0.5000\n",
            "\n",
            "\n",
            "\n"
          ]
        },
        {
          "output_type": "display_data",
          "data": {
            "text/html": [
              "<html>\n",
              "<head><meta charset=\"utf-8\" /></head>\n",
              "<body>\n",
              "    <div>\n",
              "            <script src=\"https://cdnjs.cloudflare.com/ajax/libs/mathjax/2.7.5/MathJax.js?config=TeX-AMS-MML_SVG\"></script><script type=\"text/javascript\">if (window.MathJax) {MathJax.Hub.Config({SVG: {font: \"STIX-Web\"}});}</script>\n",
              "                <script type=\"text/javascript\">window.PlotlyConfig = {MathJaxConfig: 'local'};</script>\n",
              "        <script src=\"https://cdn.plot.ly/plotly-latest.min.js\"></script>    \n",
              "            <div id=\"e4407213-1ba8-47a5-a78f-7ea8efa49032\" class=\"plotly-graph-div\" style=\"height:500px; width:1000px;\"></div>\n",
              "            <script type=\"text/javascript\">\n",
              "                \n",
              "                    window.PLOTLYENV=window.PLOTLYENV || {};\n",
              "                    \n",
              "                if (document.getElementById(\"e4407213-1ba8-47a5-a78f-7ea8efa49032\")) {\n",
              "                    Plotly.newPlot(\n",
              "                        'e4407213-1ba8-47a5-a78f-7ea8efa49032',\n",
              "                        [{\"mode\": \"markers+lines\", \"name\": \"accuracy\", \"type\": \"scatter\", \"x\": [0, 1, 2, 3, 4, 5, 6, 7, 8, 9, 10], \"y\": [0.75, 0.6666666865348816, 0.6666666865348816, 0.8333333134651184, 1.0, 1.0, 0.8333333134651184, 1.0, 1.0, 0.6666666865348816, 1.0]}, {\"mode\": \"markers+lines\", \"name\": \"val_accuracy\", \"type\": \"scatter\", \"x\": [0, 1, 2, 3, 4, 5, 6, 7, 8, 9, 10], \"y\": [0.5, 0.5, 0.5, 0.5, 0.5, 0.5, 0.5, 0.75, 0.5, 0.75, 0.5]}],\n",
              "                        {\"height\": 500, \"template\": {\"data\": {\"bar\": [{\"error_x\": {\"color\": \"#f2f5fa\"}, \"error_y\": {\"color\": \"#f2f5fa\"}, \"marker\": {\"line\": {\"color\": \"rgb(17,17,17)\", \"width\": 0.5}}, \"type\": \"bar\"}], \"barpolar\": [{\"marker\": {\"line\": {\"color\": \"rgb(17,17,17)\", \"width\": 0.5}}, \"type\": \"barpolar\"}], \"carpet\": [{\"aaxis\": {\"endlinecolor\": \"#A2B1C6\", \"gridcolor\": \"#506784\", \"linecolor\": \"#506784\", \"minorgridcolor\": \"#506784\", \"startlinecolor\": \"#A2B1C6\"}, \"baxis\": {\"endlinecolor\": \"#A2B1C6\", \"gridcolor\": \"#506784\", \"linecolor\": \"#506784\", \"minorgridcolor\": \"#506784\", \"startlinecolor\": \"#A2B1C6\"}, \"type\": \"carpet\"}], \"choropleth\": [{\"colorbar\": {\"outlinewidth\": 0, \"ticks\": \"\"}, \"type\": \"choropleth\"}], \"contour\": [{\"colorbar\": {\"outlinewidth\": 0, \"ticks\": \"\"}, \"colorscale\": [[0.0, \"#0d0887\"], [0.1111111111111111, \"#46039f\"], [0.2222222222222222, \"#7201a8\"], [0.3333333333333333, \"#9c179e\"], [0.4444444444444444, \"#bd3786\"], [0.5555555555555556, \"#d8576b\"], [0.6666666666666666, \"#ed7953\"], [0.7777777777777778, \"#fb9f3a\"], [0.8888888888888888, \"#fdca26\"], [1.0, \"#f0f921\"]], \"type\": \"contour\"}], \"contourcarpet\": [{\"colorbar\": {\"outlinewidth\": 0, \"ticks\": \"\"}, \"type\": \"contourcarpet\"}], \"heatmap\": [{\"colorbar\": {\"outlinewidth\": 0, \"ticks\": \"\"}, \"colorscale\": [[0.0, \"#0d0887\"], [0.1111111111111111, \"#46039f\"], [0.2222222222222222, \"#7201a8\"], [0.3333333333333333, \"#9c179e\"], [0.4444444444444444, \"#bd3786\"], [0.5555555555555556, \"#d8576b\"], [0.6666666666666666, \"#ed7953\"], [0.7777777777777778, \"#fb9f3a\"], [0.8888888888888888, \"#fdca26\"], [1.0, \"#f0f921\"]], \"type\": \"heatmap\"}], \"heatmapgl\": [{\"colorbar\": {\"outlinewidth\": 0, \"ticks\": \"\"}, \"colorscale\": [[0.0, \"#0d0887\"], [0.1111111111111111, \"#46039f\"], [0.2222222222222222, \"#7201a8\"], [0.3333333333333333, \"#9c179e\"], [0.4444444444444444, \"#bd3786\"], [0.5555555555555556, \"#d8576b\"], [0.6666666666666666, \"#ed7953\"], [0.7777777777777778, \"#fb9f3a\"], [0.8888888888888888, \"#fdca26\"], [1.0, \"#f0f921\"]], \"type\": \"heatmapgl\"}], \"histogram\": [{\"marker\": {\"colorbar\": {\"outlinewidth\": 0, \"ticks\": \"\"}}, \"type\": \"histogram\"}], \"histogram2d\": [{\"colorbar\": {\"outlinewidth\": 0, \"ticks\": \"\"}, \"colorscale\": [[0.0, \"#0d0887\"], [0.1111111111111111, \"#46039f\"], [0.2222222222222222, \"#7201a8\"], [0.3333333333333333, \"#9c179e\"], [0.4444444444444444, \"#bd3786\"], [0.5555555555555556, \"#d8576b\"], [0.6666666666666666, \"#ed7953\"], [0.7777777777777778, \"#fb9f3a\"], [0.8888888888888888, \"#fdca26\"], [1.0, \"#f0f921\"]], \"type\": \"histogram2d\"}], \"histogram2dcontour\": [{\"colorbar\": {\"outlinewidth\": 0, \"ticks\": \"\"}, \"colorscale\": [[0.0, \"#0d0887\"], [0.1111111111111111, \"#46039f\"], [0.2222222222222222, \"#7201a8\"], [0.3333333333333333, \"#9c179e\"], [0.4444444444444444, \"#bd3786\"], [0.5555555555555556, \"#d8576b\"], [0.6666666666666666, \"#ed7953\"], [0.7777777777777778, \"#fb9f3a\"], [0.8888888888888888, \"#fdca26\"], [1.0, \"#f0f921\"]], \"type\": \"histogram2dcontour\"}], \"mesh3d\": [{\"colorbar\": {\"outlinewidth\": 0, \"ticks\": \"\"}, \"type\": \"mesh3d\"}], \"parcoords\": [{\"line\": {\"colorbar\": {\"outlinewidth\": 0, \"ticks\": \"\"}}, \"type\": \"parcoords\"}], \"pie\": [{\"automargin\": true, \"type\": \"pie\"}], \"scatter\": [{\"marker\": {\"line\": {\"color\": \"#283442\"}}, \"type\": \"scatter\"}], \"scatter3d\": [{\"line\": {\"colorbar\": {\"outlinewidth\": 0, \"ticks\": \"\"}}, \"marker\": {\"colorbar\": {\"outlinewidth\": 0, \"ticks\": \"\"}}, \"type\": \"scatter3d\"}], \"scattercarpet\": [{\"marker\": {\"colorbar\": {\"outlinewidth\": 0, \"ticks\": \"\"}}, \"type\": \"scattercarpet\"}], \"scattergeo\": [{\"marker\": {\"colorbar\": {\"outlinewidth\": 0, \"ticks\": \"\"}}, \"type\": \"scattergeo\"}], \"scattergl\": [{\"marker\": {\"line\": {\"color\": \"#283442\"}}, \"type\": \"scattergl\"}], \"scattermapbox\": [{\"marker\": {\"colorbar\": {\"outlinewidth\": 0, \"ticks\": \"\"}}, \"type\": \"scattermapbox\"}], \"scatterpolar\": [{\"marker\": {\"colorbar\": {\"outlinewidth\": 0, \"ticks\": \"\"}}, \"type\": \"scatterpolar\"}], \"scatterpolargl\": [{\"marker\": {\"colorbar\": {\"outlinewidth\": 0, \"ticks\": \"\"}}, \"type\": \"scatterpolargl\"}], \"scatterternary\": [{\"marker\": {\"colorbar\": {\"outlinewidth\": 0, \"ticks\": \"\"}}, \"type\": \"scatterternary\"}], \"surface\": [{\"colorbar\": {\"outlinewidth\": 0, \"ticks\": \"\"}, \"colorscale\": [[0.0, \"#0d0887\"], [0.1111111111111111, \"#46039f\"], [0.2222222222222222, \"#7201a8\"], [0.3333333333333333, \"#9c179e\"], [0.4444444444444444, \"#bd3786\"], [0.5555555555555556, \"#d8576b\"], [0.6666666666666666, \"#ed7953\"], [0.7777777777777778, \"#fb9f3a\"], [0.8888888888888888, \"#fdca26\"], [1.0, \"#f0f921\"]], \"type\": \"surface\"}], \"table\": [{\"cells\": {\"fill\": {\"color\": \"#506784\"}, \"line\": {\"color\": \"rgb(17,17,17)\"}}, \"header\": {\"fill\": {\"color\": \"#2a3f5f\"}, \"line\": {\"color\": \"rgb(17,17,17)\"}}, \"type\": \"table\"}]}, \"layout\": {\"annotationdefaults\": {\"arrowcolor\": \"#f2f5fa\", \"arrowhead\": 0, \"arrowwidth\": 1}, \"coloraxis\": {\"colorbar\": {\"outlinewidth\": 0, \"ticks\": \"\"}}, \"colorscale\": {\"diverging\": [[0, \"#8e0152\"], [0.1, \"#c51b7d\"], [0.2, \"#de77ae\"], [0.3, \"#f1b6da\"], [0.4, \"#fde0ef\"], [0.5, \"#f7f7f7\"], [0.6, \"#e6f5d0\"], [0.7, \"#b8e186\"], [0.8, \"#7fbc41\"], [0.9, \"#4d9221\"], [1, \"#276419\"]], \"sequential\": [[0.0, \"#0d0887\"], [0.1111111111111111, \"#46039f\"], [0.2222222222222222, \"#7201a8\"], [0.3333333333333333, \"#9c179e\"], [0.4444444444444444, \"#bd3786\"], [0.5555555555555556, \"#d8576b\"], [0.6666666666666666, \"#ed7953\"], [0.7777777777777778, \"#fb9f3a\"], [0.8888888888888888, \"#fdca26\"], [1.0, \"#f0f921\"]], \"sequentialminus\": [[0.0, \"#0d0887\"], [0.1111111111111111, \"#46039f\"], [0.2222222222222222, \"#7201a8\"], [0.3333333333333333, \"#9c179e\"], [0.4444444444444444, \"#bd3786\"], [0.5555555555555556, \"#d8576b\"], [0.6666666666666666, \"#ed7953\"], [0.7777777777777778, \"#fb9f3a\"], [0.8888888888888888, \"#fdca26\"], [1.0, \"#f0f921\"]]}, \"colorway\": [\"#636efa\", \"#EF553B\", \"#00cc96\", \"#ab63fa\", \"#FFA15A\", \"#19d3f3\", \"#FF6692\", \"#B6E880\", \"#FF97FF\", \"#FECB52\"], \"font\": {\"color\": \"#f2f5fa\"}, \"geo\": {\"bgcolor\": \"rgb(17,17,17)\", \"lakecolor\": \"rgb(17,17,17)\", \"landcolor\": \"rgb(17,17,17)\", \"showlakes\": true, \"showland\": true, \"subunitcolor\": \"#506784\"}, \"hoverlabel\": {\"align\": \"left\"}, \"hovermode\": \"closest\", \"mapbox\": {\"style\": \"dark\"}, \"paper_bgcolor\": \"rgb(17,17,17)\", \"plot_bgcolor\": \"rgb(17,17,17)\", \"polar\": {\"angularaxis\": {\"gridcolor\": \"#506784\", \"linecolor\": \"#506784\", \"ticks\": \"\"}, \"bgcolor\": \"rgb(17,17,17)\", \"radialaxis\": {\"gridcolor\": \"#506784\", \"linecolor\": \"#506784\", \"ticks\": \"\"}}, \"scene\": {\"xaxis\": {\"backgroundcolor\": \"rgb(17,17,17)\", \"gridcolor\": \"#506784\", \"gridwidth\": 2, \"linecolor\": \"#506784\", \"showbackground\": true, \"ticks\": \"\", \"zerolinecolor\": \"#C8D4E3\"}, \"yaxis\": {\"backgroundcolor\": \"rgb(17,17,17)\", \"gridcolor\": \"#506784\", \"gridwidth\": 2, \"linecolor\": \"#506784\", \"showbackground\": true, \"ticks\": \"\", \"zerolinecolor\": \"#C8D4E3\"}, \"zaxis\": {\"backgroundcolor\": \"rgb(17,17,17)\", \"gridcolor\": \"#506784\", \"gridwidth\": 2, \"linecolor\": \"#506784\", \"showbackground\": true, \"ticks\": \"\", \"zerolinecolor\": \"#C8D4E3\"}}, \"shapedefaults\": {\"line\": {\"color\": \"#f2f5fa\"}}, \"sliderdefaults\": {\"bgcolor\": \"#C8D4E3\", \"bordercolor\": \"rgb(17,17,17)\", \"borderwidth\": 1, \"tickwidth\": 0}, \"ternary\": {\"aaxis\": {\"gridcolor\": \"#506784\", \"linecolor\": \"#506784\", \"ticks\": \"\"}, \"baxis\": {\"gridcolor\": \"#506784\", \"linecolor\": \"#506784\", \"ticks\": \"\"}, \"bgcolor\": \"rgb(17,17,17)\", \"caxis\": {\"gridcolor\": \"#506784\", \"linecolor\": \"#506784\", \"ticks\": \"\"}}, \"title\": {\"x\": 0.05}, \"updatemenudefaults\": {\"bgcolor\": \"#506784\", \"borderwidth\": 0}, \"xaxis\": {\"automargin\": true, \"gridcolor\": \"#283442\", \"linecolor\": \"#506784\", \"ticks\": \"\", \"title\": {\"standoff\": 15}, \"zerolinecolor\": \"#283442\", \"zerolinewidth\": 2}, \"yaxis\": {\"automargin\": true, \"gridcolor\": \"#283442\", \"linecolor\": \"#506784\", \"ticks\": \"\", \"title\": {\"standoff\": 15}, \"zerolinecolor\": \"#283442\", \"zerolinewidth\": 2}}}, \"title\": {\"text\": \"accuracy vs val. accuracy\"}, \"width\": 1000, \"xaxis\": {\"title\": {\"text\": \"Epochs\"}}, \"yaxis\": {\"title\": {\"text\": \"Accuracy\"}}},\n",
              "                        {\"responsive\": true}\n",
              "                    ).then(function(){\n",
              "                            \n",
              "var gd = document.getElementById('e4407213-1ba8-47a5-a78f-7ea8efa49032');\n",
              "var x = new MutationObserver(function (mutations, observer) {{\n",
              "        var display = window.getComputedStyle(gd).display;\n",
              "        if (!display || display === 'none') {{\n",
              "            console.log([gd, 'removed!']);\n",
              "            Plotly.purge(gd);\n",
              "            observer.disconnect();\n",
              "        }}\n",
              "}});\n",
              "\n",
              "// Listen for the removal of the full notebook cells\n",
              "var notebookContainer = gd.closest('#notebook-container');\n",
              "if (notebookContainer) {{\n",
              "    x.observe(notebookContainer, {childList: true});\n",
              "}}\n",
              "\n",
              "// Listen for the clearing of the current output cell\n",
              "var outputEl = gd.closest('.output');\n",
              "if (outputEl) {{\n",
              "    x.observe(outputEl, {childList: true});\n",
              "}}\n",
              "\n",
              "                        })\n",
              "                };\n",
              "                \n",
              "            </script>\n",
              "        </div>\n",
              "</body>\n",
              "</html>"
            ]
          },
          "metadata": {}
        },
        {
          "output_type": "display_data",
          "data": {
            "text/html": [
              "<html>\n",
              "<head><meta charset=\"utf-8\" /></head>\n",
              "<body>\n",
              "    <div>\n",
              "            <script src=\"https://cdnjs.cloudflare.com/ajax/libs/mathjax/2.7.5/MathJax.js?config=TeX-AMS-MML_SVG\"></script><script type=\"text/javascript\">if (window.MathJax) {MathJax.Hub.Config({SVG: {font: \"STIX-Web\"}});}</script>\n",
              "                <script type=\"text/javascript\">window.PlotlyConfig = {MathJaxConfig: 'local'};</script>\n",
              "        <script src=\"https://cdn.plot.ly/plotly-latest.min.js\"></script>    \n",
              "            <div id=\"adda2ba4-fd13-4126-9b23-cf9ba2694f24\" class=\"plotly-graph-div\" style=\"height:500px; width:1000px;\"></div>\n",
              "            <script type=\"text/javascript\">\n",
              "                \n",
              "                    window.PLOTLYENV=window.PLOTLYENV || {};\n",
              "                    \n",
              "                if (document.getElementById(\"adda2ba4-fd13-4126-9b23-cf9ba2694f24\")) {\n",
              "                    Plotly.newPlot(\n",
              "                        'adda2ba4-fd13-4126-9b23-cf9ba2694f24',\n",
              "                        [{\"mode\": \"markers+lines\", \"name\": \"loss\", \"type\": \"scatter\", \"x\": [0, 1, 2, 3, 4, 5, 6, 7, 8, 9, 10], \"y\": [0.6914563179016113, 0.6714580059051514, 0.6314091086387634, 1.0492175817489624, 0.5585153698921204, 0.47686347365379333, 0.43773266673088074, 0.34803733229637146, 0.26920899748802185, 0.6332681775093079, 0.2678503096103668]}, {\"mode\": \"markers+lines\", \"name\": \"val_loss\", \"type\": \"scatter\", \"x\": [0, 1, 2, 3, 4, 5, 6, 7, 8, 9, 10], \"y\": [0.6869329810142517, 0.6830135583877563, 0.6576001048088074, 0.6549286842346191, 0.6400713920593262, 0.8008583188056946, 0.6142594218254089, 0.5657697916030884, 1.5443415641784668, 0.6195663809776306, 0.6710813045501709]}],\n",
              "                        {\"height\": 500, \"template\": {\"data\": {\"bar\": [{\"error_x\": {\"color\": \"#f2f5fa\"}, \"error_y\": {\"color\": \"#f2f5fa\"}, \"marker\": {\"line\": {\"color\": \"rgb(17,17,17)\", \"width\": 0.5}}, \"type\": \"bar\"}], \"barpolar\": [{\"marker\": {\"line\": {\"color\": \"rgb(17,17,17)\", \"width\": 0.5}}, \"type\": \"barpolar\"}], \"carpet\": [{\"aaxis\": {\"endlinecolor\": \"#A2B1C6\", \"gridcolor\": \"#506784\", \"linecolor\": \"#506784\", \"minorgridcolor\": \"#506784\", \"startlinecolor\": \"#A2B1C6\"}, \"baxis\": {\"endlinecolor\": \"#A2B1C6\", \"gridcolor\": \"#506784\", \"linecolor\": \"#506784\", \"minorgridcolor\": \"#506784\", \"startlinecolor\": \"#A2B1C6\"}, \"type\": \"carpet\"}], \"choropleth\": [{\"colorbar\": {\"outlinewidth\": 0, \"ticks\": \"\"}, \"type\": \"choropleth\"}], \"contour\": [{\"colorbar\": {\"outlinewidth\": 0, \"ticks\": \"\"}, \"colorscale\": [[0.0, \"#0d0887\"], [0.1111111111111111, \"#46039f\"], [0.2222222222222222, \"#7201a8\"], [0.3333333333333333, \"#9c179e\"], [0.4444444444444444, \"#bd3786\"], [0.5555555555555556, \"#d8576b\"], [0.6666666666666666, \"#ed7953\"], [0.7777777777777778, \"#fb9f3a\"], [0.8888888888888888, \"#fdca26\"], [1.0, \"#f0f921\"]], \"type\": \"contour\"}], \"contourcarpet\": [{\"colorbar\": {\"outlinewidth\": 0, \"ticks\": \"\"}, \"type\": \"contourcarpet\"}], \"heatmap\": [{\"colorbar\": {\"outlinewidth\": 0, \"ticks\": \"\"}, \"colorscale\": [[0.0, \"#0d0887\"], [0.1111111111111111, \"#46039f\"], [0.2222222222222222, \"#7201a8\"], [0.3333333333333333, \"#9c179e\"], [0.4444444444444444, \"#bd3786\"], [0.5555555555555556, \"#d8576b\"], [0.6666666666666666, \"#ed7953\"], [0.7777777777777778, \"#fb9f3a\"], [0.8888888888888888, \"#fdca26\"], [1.0, \"#f0f921\"]], \"type\": \"heatmap\"}], \"heatmapgl\": [{\"colorbar\": {\"outlinewidth\": 0, \"ticks\": \"\"}, \"colorscale\": [[0.0, \"#0d0887\"], [0.1111111111111111, \"#46039f\"], [0.2222222222222222, \"#7201a8\"], [0.3333333333333333, \"#9c179e\"], [0.4444444444444444, \"#bd3786\"], [0.5555555555555556, \"#d8576b\"], [0.6666666666666666, \"#ed7953\"], [0.7777777777777778, \"#fb9f3a\"], [0.8888888888888888, \"#fdca26\"], [1.0, \"#f0f921\"]], \"type\": \"heatmapgl\"}], \"histogram\": [{\"marker\": {\"colorbar\": {\"outlinewidth\": 0, \"ticks\": \"\"}}, \"type\": \"histogram\"}], \"histogram2d\": [{\"colorbar\": {\"outlinewidth\": 0, \"ticks\": \"\"}, \"colorscale\": [[0.0, \"#0d0887\"], [0.1111111111111111, \"#46039f\"], [0.2222222222222222, \"#7201a8\"], [0.3333333333333333, \"#9c179e\"], [0.4444444444444444, \"#bd3786\"], [0.5555555555555556, \"#d8576b\"], [0.6666666666666666, \"#ed7953\"], [0.7777777777777778, \"#fb9f3a\"], [0.8888888888888888, \"#fdca26\"], [1.0, \"#f0f921\"]], \"type\": \"histogram2d\"}], \"histogram2dcontour\": [{\"colorbar\": {\"outlinewidth\": 0, \"ticks\": \"\"}, \"colorscale\": [[0.0, \"#0d0887\"], [0.1111111111111111, \"#46039f\"], [0.2222222222222222, \"#7201a8\"], [0.3333333333333333, \"#9c179e\"], [0.4444444444444444, \"#bd3786\"], [0.5555555555555556, \"#d8576b\"], [0.6666666666666666, \"#ed7953\"], [0.7777777777777778, \"#fb9f3a\"], [0.8888888888888888, \"#fdca26\"], [1.0, \"#f0f921\"]], \"type\": \"histogram2dcontour\"}], \"mesh3d\": [{\"colorbar\": {\"outlinewidth\": 0, \"ticks\": \"\"}, \"type\": \"mesh3d\"}], \"parcoords\": [{\"line\": {\"colorbar\": {\"outlinewidth\": 0, \"ticks\": \"\"}}, \"type\": \"parcoords\"}], \"pie\": [{\"automargin\": true, \"type\": \"pie\"}], \"scatter\": [{\"marker\": {\"line\": {\"color\": \"#283442\"}}, \"type\": \"scatter\"}], \"scatter3d\": [{\"line\": {\"colorbar\": {\"outlinewidth\": 0, \"ticks\": \"\"}}, \"marker\": {\"colorbar\": {\"outlinewidth\": 0, \"ticks\": \"\"}}, \"type\": \"scatter3d\"}], \"scattercarpet\": [{\"marker\": {\"colorbar\": {\"outlinewidth\": 0, \"ticks\": \"\"}}, \"type\": \"scattercarpet\"}], \"scattergeo\": [{\"marker\": {\"colorbar\": {\"outlinewidth\": 0, \"ticks\": \"\"}}, \"type\": \"scattergeo\"}], \"scattergl\": [{\"marker\": {\"line\": {\"color\": \"#283442\"}}, \"type\": \"scattergl\"}], \"scattermapbox\": [{\"marker\": {\"colorbar\": {\"outlinewidth\": 0, \"ticks\": \"\"}}, \"type\": \"scattermapbox\"}], \"scatterpolar\": [{\"marker\": {\"colorbar\": {\"outlinewidth\": 0, \"ticks\": \"\"}}, \"type\": \"scatterpolar\"}], \"scatterpolargl\": [{\"marker\": {\"colorbar\": {\"outlinewidth\": 0, \"ticks\": \"\"}}, \"type\": \"scatterpolargl\"}], \"scatterternary\": [{\"marker\": {\"colorbar\": {\"outlinewidth\": 0, \"ticks\": \"\"}}, \"type\": \"scatterternary\"}], \"surface\": [{\"colorbar\": {\"outlinewidth\": 0, \"ticks\": \"\"}, \"colorscale\": [[0.0, \"#0d0887\"], [0.1111111111111111, \"#46039f\"], [0.2222222222222222, \"#7201a8\"], [0.3333333333333333, \"#9c179e\"], [0.4444444444444444, \"#bd3786\"], [0.5555555555555556, \"#d8576b\"], [0.6666666666666666, \"#ed7953\"], [0.7777777777777778, \"#fb9f3a\"], [0.8888888888888888, \"#fdca26\"], [1.0, \"#f0f921\"]], \"type\": \"surface\"}], \"table\": [{\"cells\": {\"fill\": {\"color\": \"#506784\"}, \"line\": {\"color\": \"rgb(17,17,17)\"}}, \"header\": {\"fill\": {\"color\": \"#2a3f5f\"}, \"line\": {\"color\": \"rgb(17,17,17)\"}}, \"type\": \"table\"}]}, \"layout\": {\"annotationdefaults\": {\"arrowcolor\": \"#f2f5fa\", \"arrowhead\": 0, \"arrowwidth\": 1}, \"coloraxis\": {\"colorbar\": {\"outlinewidth\": 0, \"ticks\": \"\"}}, \"colorscale\": {\"diverging\": [[0, \"#8e0152\"], [0.1, \"#c51b7d\"], [0.2, \"#de77ae\"], [0.3, \"#f1b6da\"], [0.4, \"#fde0ef\"], [0.5, \"#f7f7f7\"], [0.6, \"#e6f5d0\"], [0.7, \"#b8e186\"], [0.8, \"#7fbc41\"], [0.9, \"#4d9221\"], [1, \"#276419\"]], \"sequential\": [[0.0, \"#0d0887\"], [0.1111111111111111, \"#46039f\"], [0.2222222222222222, \"#7201a8\"], [0.3333333333333333, \"#9c179e\"], [0.4444444444444444, \"#bd3786\"], [0.5555555555555556, \"#d8576b\"], [0.6666666666666666, \"#ed7953\"], [0.7777777777777778, \"#fb9f3a\"], [0.8888888888888888, \"#fdca26\"], [1.0, \"#f0f921\"]], \"sequentialminus\": [[0.0, \"#0d0887\"], [0.1111111111111111, \"#46039f\"], [0.2222222222222222, \"#7201a8\"], [0.3333333333333333, \"#9c179e\"], [0.4444444444444444, \"#bd3786\"], [0.5555555555555556, \"#d8576b\"], [0.6666666666666666, \"#ed7953\"], [0.7777777777777778, \"#fb9f3a\"], [0.8888888888888888, \"#fdca26\"], [1.0, \"#f0f921\"]]}, \"colorway\": [\"#636efa\", \"#EF553B\", \"#00cc96\", \"#ab63fa\", \"#FFA15A\", \"#19d3f3\", \"#FF6692\", \"#B6E880\", \"#FF97FF\", \"#FECB52\"], \"font\": {\"color\": \"#f2f5fa\"}, \"geo\": {\"bgcolor\": \"rgb(17,17,17)\", \"lakecolor\": \"rgb(17,17,17)\", \"landcolor\": \"rgb(17,17,17)\", \"showlakes\": true, \"showland\": true, \"subunitcolor\": \"#506784\"}, \"hoverlabel\": {\"align\": \"left\"}, \"hovermode\": \"closest\", \"mapbox\": {\"style\": \"dark\"}, \"paper_bgcolor\": \"rgb(17,17,17)\", \"plot_bgcolor\": \"rgb(17,17,17)\", \"polar\": {\"angularaxis\": {\"gridcolor\": \"#506784\", \"linecolor\": \"#506784\", \"ticks\": \"\"}, \"bgcolor\": \"rgb(17,17,17)\", \"radialaxis\": {\"gridcolor\": \"#506784\", \"linecolor\": \"#506784\", \"ticks\": \"\"}}, \"scene\": {\"xaxis\": {\"backgroundcolor\": \"rgb(17,17,17)\", \"gridcolor\": \"#506784\", \"gridwidth\": 2, \"linecolor\": \"#506784\", \"showbackground\": true, \"ticks\": \"\", \"zerolinecolor\": \"#C8D4E3\"}, \"yaxis\": {\"backgroundcolor\": \"rgb(17,17,17)\", \"gridcolor\": \"#506784\", \"gridwidth\": 2, \"linecolor\": \"#506784\", \"showbackground\": true, \"ticks\": \"\", \"zerolinecolor\": \"#C8D4E3\"}, \"zaxis\": {\"backgroundcolor\": \"rgb(17,17,17)\", \"gridcolor\": \"#506784\", \"gridwidth\": 2, \"linecolor\": \"#506784\", \"showbackground\": true, \"ticks\": \"\", \"zerolinecolor\": \"#C8D4E3\"}}, \"shapedefaults\": {\"line\": {\"color\": \"#f2f5fa\"}}, \"sliderdefaults\": {\"bgcolor\": \"#C8D4E3\", \"bordercolor\": \"rgb(17,17,17)\", \"borderwidth\": 1, \"tickwidth\": 0}, \"ternary\": {\"aaxis\": {\"gridcolor\": \"#506784\", \"linecolor\": \"#506784\", \"ticks\": \"\"}, \"baxis\": {\"gridcolor\": \"#506784\", \"linecolor\": \"#506784\", \"ticks\": \"\"}, \"bgcolor\": \"rgb(17,17,17)\", \"caxis\": {\"gridcolor\": \"#506784\", \"linecolor\": \"#506784\", \"ticks\": \"\"}}, \"title\": {\"x\": 0.05}, \"updatemenudefaults\": {\"bgcolor\": \"#506784\", \"borderwidth\": 0}, \"xaxis\": {\"automargin\": true, \"gridcolor\": \"#283442\", \"linecolor\": \"#506784\", \"ticks\": \"\", \"title\": {\"standoff\": 15}, \"zerolinecolor\": \"#283442\", \"zerolinewidth\": 2}, \"yaxis\": {\"automargin\": true, \"gridcolor\": \"#283442\", \"linecolor\": \"#506784\", \"ticks\": \"\", \"title\": {\"standoff\": 15}, \"zerolinecolor\": \"#283442\", \"zerolinewidth\": 2}}}, \"title\": {\"text\": \"loss vs val. loss\"}, \"width\": 1000, \"xaxis\": {\"title\": {\"text\": \"Epochs\"}}, \"yaxis\": {\"title\": {\"text\": \"Loss\"}}},\n",
              "                        {\"responsive\": true}\n",
              "                    ).then(function(){\n",
              "                            \n",
              "var gd = document.getElementById('adda2ba4-fd13-4126-9b23-cf9ba2694f24');\n",
              "var x = new MutationObserver(function (mutations, observer) {{\n",
              "        var display = window.getComputedStyle(gd).display;\n",
              "        if (!display || display === 'none') {{\n",
              "            console.log([gd, 'removed!']);\n",
              "            Plotly.purge(gd);\n",
              "            observer.disconnect();\n",
              "        }}\n",
              "}});\n",
              "\n",
              "// Listen for the removal of the full notebook cells\n",
              "var notebookContainer = gd.closest('#notebook-container');\n",
              "if (notebookContainer) {{\n",
              "    x.observe(notebookContainer, {childList: true});\n",
              "}}\n",
              "\n",
              "// Listen for the clearing of the current output cell\n",
              "var outputEl = gd.closest('.output');\n",
              "if (outputEl) {{\n",
              "    x.observe(outputEl, {childList: true});\n",
              "}}\n",
              "\n",
              "                        })\n",
              "                };\n",
              "                \n",
              "            </script>\n",
              "        </div>\n",
              "</body>\n",
              "</html>"
            ]
          },
          "metadata": {}
        },
        {
          "output_type": "stream",
          "name": "stdout",
          "text": [
            "\n",
            "\n",
            "\n",
            "Model loss on test set: 0.68\n",
            "Model accuracy on test set: 0.5\n"
          ]
        },
        {
          "output_type": "stream",
          "name": "stderr",
          "text": [
            "WARNING:absl:Found untraced functions such as lstm_cell_28_layer_call_fn, lstm_cell_28_layer_call_and_return_conditional_losses, lstm_cell_29_layer_call_fn, lstm_cell_29_layer_call_and_return_conditional_losses, lstm_cell_28_layer_call_fn while saving (showing 5 of 10). These functions will not be directly callable after loading.\n"
          ]
        },
        {
          "output_type": "stream",
          "name": "stdout",
          "text": [
            "INFO:tensorflow:Assets written to: ind_model/assets\n"
          ]
        },
        {
          "output_type": "stream",
          "name": "stderr",
          "text": [
            "INFO:tensorflow:Assets written to: ind_model/assets\n"
          ]
        }
      ]
    },
    {
      "cell_type": "markdown",
      "metadata": {
        "id": "eCWCuHV3gIo0"
      },
      "source": [
        "# Running both models"
      ]
    },
    {
      "cell_type": "markdown",
      "metadata": {
        "id": "ssHwT_D77RiU"
      },
      "source": [
        "\n",
        "\n",
        "---\n",
        "\n",
        "\n",
        "\n",
        "---\n",
        "\n"
      ]
    },
    {
      "cell_type": "markdown",
      "metadata": {
        "id": "lkvHSsoKr95o"
      },
      "source": [
        "## Application"
      ]
    },
    {
      "cell_type": "code",
      "metadata": {
        "id": "Hm_ySnORgKNz"
      },
      "source": [
        "class Detector:\n",
        "  def __init__(self):\n",
        "    # --------------------- Libraries------------------------ #\n",
        "\n",
        "    from google.colab import files\n",
        "    from tensorflow import keras\n",
        "    import pandas as pd\n",
        "    import numpy as np\n",
        "\n",
        "    # --------------------- Import datasets ------------------------ #\n",
        "\n",
        "    # print('Select: \\n1.articles dataframe\\n2.money laundering model \\n3.indictiment model\\n')\n",
        "    # files.upload()\n",
        "\n",
        "    articles = pd.read_excel('articles.xlsx')\n",
        "    ml_model = keras.models.load_model('ml_model')\n",
        "    ind_model = keras.models.load_model('ind_model')\n",
        "\n",
        "    self.articles = articles\n",
        "    self.ml_model = ml_model\n",
        "    self.ind_model = ind_model\n",
        "\n",
        "    # --------------------- Display input ------------------------ #\n",
        "\n",
        "  # SHOW ALL ARTICLES #\n",
        "  def articles(self):\n",
        "    return self.articles\n",
        "\n",
        "  # SHOW ML_MODEL SUMMARY #\n",
        "  def ml_model(self):\n",
        "    return self.ml_model.summary()\n",
        "\n",
        "  # SHOW IND_MODEL SUMMARY #\n",
        "  def ind_model(self):\n",
        "    return self.ind_model.summary()\n",
        "\n",
        "    # --------------------- Money Laundering or Not Detection ------------------------ #\n",
        "\n",
        "  # PREPROCESS DATA TO ML DETECTION #\n",
        "  def ml_preprocessing(self):\n",
        "\n",
        "    ### CREATING A LIST OF ARTICLES ###\n",
        "    txt = []\n",
        "    for i in self.articles['text']:\n",
        "      txt.append(i)\n",
        "    ### SETTING UP HYPERPARAMETERS ###\n",
        "    words_cnt = 1000\n",
        "    max_len = 200\n",
        "\n",
        "    ### TOKENIZING ###\n",
        "    tokenizer = Tokenizer(num_words = words_cnt)\n",
        "    tokenizer.fit_on_texts(txt)\n",
        "    ### SEQUENCING ###\n",
        "    sequence = tokenizer.texts_to_sequences(txt)\n",
        "    ### PAD SEQUENCES ###\n",
        "    padd_txt = pad_sequences(sequence, maxlen = max_len)\n",
        "\n",
        "    return padd_txt\n",
        "\n",
        "  # SHOW DF WITH ALL ARTICLES AND 'MONEY_LAUNDERING_OR_NOT' BINAR COLUMN #\n",
        "  def ml_predict(self):\n",
        "    # articles = self.articles\n",
        "    ml_padd_txt = self.ml_preprocessing()\n",
        "\n",
        "    ml_predictions = [1 if p > 0.5 else 0 for p in self.ml_model.predict(ml_padd_txt)]\n",
        "\n",
        "    ml_articles = self.articles.copy()\n",
        "    ml_articles['money_laundering_or_not'] = ml_predictions\n",
        "\n",
        "    return ml_articles\n",
        "\n",
        "  # SHOW SIGMOID FUNCTION VALUES OF ML DETECTION FOR EACH ARTICLE #\n",
        "  def ml_sigmoid_values(self):\n",
        "    ml_padd_txt = self.ml_preprocessing()\n",
        "\n",
        "    ml_sigmoid_values = self.ml_model.predict(ml_padd_txt)\n",
        "\n",
        "    return ml_sigmoid_values\n",
        "\n",
        "  # RETURN DF WITH ARTICLES THAT WERE DETECTED AS MONEY LAUNDERING #\n",
        "  def ml_filtered(self):\n",
        "    ml_articles = self.ml_predict()\n",
        "\n",
        "    if len(ml_articles) == 0:\n",
        "      return print('No articles detected as money laundering')\n",
        "    else:\n",
        "      filtered_ml_articles = ml_articles[ml_articles['money_laundering_or_not'] == 1]\n",
        "\n",
        "    return filtered_ml_articles\n",
        "\n",
        "  # --------------------- Allegation or Conviction Detection ------------------------ #\n",
        "\n",
        "  # PREPROCESS FILTERED DF TO ALLEGATION OR CONVICTION DETECTION #\n",
        "  def ind_preprocessing(self):\n",
        "    ml_articles = self.ml_predict()\n",
        "\n",
        "    if len(ml_articles) == 0:\n",
        "      return print('No articles detected as money laundering')\n",
        "    else:\n",
        "      ind_articles = self.ml_filtered()\n",
        "      ### CREATING A LIST OF ARTICLES ###\n",
        "      ind_txt = []\n",
        "      for i in ind_articles['text']:\n",
        "        ind_txt.append(i)\n",
        "      ### SETTING UP HYPERPARAMETERS ###\n",
        "      ind_words_cnt = 1000\n",
        "      ind_max_len = 100\n",
        "      ### TOKENIZING ###\n",
        "      ind_tokenizer = Tokenizer(num_words = ind_words_cnt)\n",
        "      ind_tokenizer.fit_on_texts(ind_txt)\n",
        "      ### SEQUENCING ###\n",
        "      ind_sequence = ind_tokenizer.texts_to_sequences(ind_txt)\n",
        "      ### PAD SEQUENCES ###\n",
        "      ind_padd_txt = pad_sequences(ind_sequence, maxlen = ind_max_len)\n",
        "      return ind_padd_txt\n",
        "\n",
        "  # SHOW LIST OF PREDICTIONS OF ALLEGATION OR CONVICTION DETECTION #\n",
        "  def ind_predictions(self):\n",
        "    ind_padd_txt = self.ind_preprocessing()\n",
        "    ml_articles = self.ml_predict()\n",
        "      \n",
        "    if len(ml_articles) == 0:\n",
        "\n",
        "      return print('No articles detected as money laundering')\n",
        "    else:\n",
        "      ind_predictions = [1 if p > 0.5 else 0 for p in ind_model.predict(ind_padd_txt)]\n",
        "\n",
        "      return ind_predictions\n",
        "\n",
        "  # RETURN DF WITH PREDICTIONS FOR ALLEGATION OR CONVICTION DETECTION #\n",
        "  def ind_predict(self):\n",
        "    ml_articles = self.ml_predict()\n",
        "\n",
        "    if len(ml_articles) == 0:\n",
        "\n",
        "      return print('No articles detected as money laundering')\n",
        "    else:\n",
        "      ind_predictions = self.ind_predictions()\n",
        "      ind_articles = self.ml_filtered()\n",
        "\n",
        "      ind_articles['conviction'] = ind_predictions\n",
        "      ind_articles.drop('money_laundering_or_not', axis = 1, inplace = True)\n",
        "\n",
        "      return ind_articles\n",
        "\n",
        "  # SHOW ARRAY OF SIGMOID FUNCTION VALUES OF ML DETECTION FOR EACH ARTICLE #\n",
        "  def ind_sigmoid_values(self):\n",
        "    ind_padd_txt = self.ind_preprocessing()\n",
        "\n",
        "    ind_sigmoid_values = self.ind_model.predict(ind_padd_txt)\n",
        "\n",
        "    return ind_sigmoid_values\n",
        "\n",
        "  # SHOW DF WITH FULL ARTICLES LIST AND BOTH PREDICTIONS (MONEY LAUNDERING OR NOT AND ALLEGTION OR CONVICTION DETECTION)\n",
        "  def predict(self):\n",
        "    ml_articles = self.ml_predict()\n",
        "    ind_articles = self.ind_predict()\n",
        "\n",
        "    if len(ml_articles) == 0:\n",
        "        return print('No articles detected as money laundering')\n",
        "    else:\n",
        "        all_articles = ml_articles.merge(ind_articles, on='text', how = 'left').fillna(0)\n",
        "        all_articles['conviction'] = all_articles['conviction'].apply(lambda x: int(x))\n",
        "\n",
        "        return all_articles"
      ],
      "execution_count": 89,
      "outputs": []
    },
    {
      "cell_type": "markdown",
      "metadata": {
        "id": "UQJHRXODr_5T"
      },
      "source": [
        "## Execution"
      ]
    },
    {
      "cell_type": "code",
      "metadata": {
        "id": "gO10bOF8rIlg"
      },
      "source": [
        "detector = Detector()"
      ],
      "execution_count": 90,
      "outputs": []
    },
    {
      "cell_type": "markdown",
      "metadata": {
        "id": "cvUwcBzw6lpH"
      },
      "source": [
        "Sigmoid values for Money Laundering articles detection"
      ]
    },
    {
      "cell_type": "code",
      "metadata": {
        "id": "OC1A5OBka4B-",
        "colab": {
          "base_uri": "https://localhost:8080/"
        },
        "outputId": "85262d8a-de89-43aa-c8f4-a42268ac31fe"
      },
      "source": [
        "detector.ml_sigmoid_values()"
      ],
      "execution_count": 91,
      "outputs": [
        {
          "output_type": "execute_result",
          "data": {
            "text/plain": [
              "array([[0.5126577 ],\n",
              "       [0.50596124],\n",
              "       [0.5090526 ],\n",
              "       [0.51065964],\n",
              "       [0.5127673 ],\n",
              "       [0.5122412 ],\n",
              "       [0.4964424 ],\n",
              "       [0.5093552 ],\n",
              "       [0.51248527],\n",
              "       [0.5034157 ],\n",
              "       [0.51381105],\n",
              "       [0.52324027],\n",
              "       [0.515902  ],\n",
              "       [0.51062375]], dtype=float32)"
            ]
          },
          "metadata": {},
          "execution_count": 91
        }
      ]
    },
    {
      "cell_type": "markdown",
      "metadata": {
        "id": "I_llxkl96up1"
      },
      "source": [
        "Sigmoid values for Allegation or Conviction articles detection"
      ]
    },
    {
      "cell_type": "code",
      "metadata": {
        "colab": {
          "base_uri": "https://localhost:8080/"
        },
        "id": "y8tDoHmLqwr8",
        "outputId": "b112ee50-3a62-4d72-d52f-177d85c9017c"
      },
      "source": [
        "detector.ind_sigmoid_values()"
      ],
      "execution_count": 92,
      "outputs": [
        {
          "output_type": "stream",
          "name": "stdout",
          "text": [
            "WARNING:tensorflow:Model was constructed with shape (None, 200) for input KerasTensor(type_spec=TensorSpec(shape=(None, 200), dtype=tf.float32, name='embedding_5_input'), name='embedding_5_input', description=\"created by layer 'embedding_5_input'\"), but it was called on an input with incompatible shape (None, 100).\n"
          ]
        },
        {
          "output_type": "stream",
          "name": "stderr",
          "text": [
            "WARNING:tensorflow:Model was constructed with shape (None, 200) for input KerasTensor(type_spec=TensorSpec(shape=(None, 200), dtype=tf.float32, name='embedding_5_input'), name='embedding_5_input', description=\"created by layer 'embedding_5_input'\"), but it was called on an input with incompatible shape (None, 100).\n"
          ]
        },
        {
          "output_type": "execute_result",
          "data": {
            "text/plain": [
              "array([[0.540378  ],\n",
              "       [0.6493387 ],\n",
              "       [0.4745122 ],\n",
              "       [0.56895477],\n",
              "       [0.5922787 ],\n",
              "       [0.507244  ],\n",
              "       [0.5494748 ],\n",
              "       [0.6948388 ],\n",
              "       [0.4971142 ],\n",
              "       [0.58169407],\n",
              "       [0.66764104],\n",
              "       [0.53893757],\n",
              "       [0.39143068]], dtype=float32)"
            ]
          },
          "metadata": {},
          "execution_count": 92
        }
      ]
    },
    {
      "cell_type": "markdown",
      "metadata": {
        "id": "5bD-sjTv61D7"
      },
      "source": [
        "DataFrame of full predictions for each article"
      ]
    },
    {
      "cell_type": "code",
      "metadata": {
        "colab": {
          "base_uri": "https://localhost:8080/",
          "height": 537
        },
        "id": "ucspQ31whbEr",
        "outputId": "a1428aa4-cc44-4188-f408-e11b3b78f6be"
      },
      "source": [
        "detector.predict()"
      ],
      "execution_count": 93,
      "outputs": [
        {
          "output_type": "stream",
          "name": "stdout",
          "text": [
            "WARNING:tensorflow:Model was constructed with shape (None, 200) for input KerasTensor(type_spec=TensorSpec(shape=(None, 200), dtype=tf.float32, name='embedding_5_input'), name='embedding_5_input', description=\"created by layer 'embedding_5_input'\"), but it was called on an input with incompatible shape (None, 100).\n"
          ]
        },
        {
          "output_type": "stream",
          "name": "stderr",
          "text": [
            "WARNING:tensorflow:Model was constructed with shape (None, 200) for input KerasTensor(type_spec=TensorSpec(shape=(None, 200), dtype=tf.float32, name='embedding_5_input'), name='embedding_5_input', description=\"created by layer 'embedding_5_input'\"), but it was called on an input with incompatible shape (None, 100).\n"
          ]
        },
        {
          "output_type": "execute_result",
          "data": {
            "text/html": [
              "<div>\n",
              "<style scoped>\n",
              "    .dataframe tbody tr th:only-of-type {\n",
              "        vertical-align: middle;\n",
              "    }\n",
              "\n",
              "    .dataframe tbody tr th {\n",
              "        vertical-align: top;\n",
              "    }\n",
              "\n",
              "    .dataframe thead th {\n",
              "        text-align: right;\n",
              "    }\n",
              "</style>\n",
              "<table border=\"1\" class=\"dataframe\">\n",
              "  <thead>\n",
              "    <tr style=\"text-align: right;\">\n",
              "      <th></th>\n",
              "      <th>text</th>\n",
              "      <th>money_laundering_or_not</th>\n",
              "      <th>conviction</th>\n",
              "    </tr>\n",
              "  </thead>\n",
              "  <tbody>\n",
              "    <tr>\n",
              "      <th>0</th>\n",
              "      <td>Allegations of money laundering, fraud, crimin...</td>\n",
              "      <td>1</td>\n",
              "      <td>1</td>\n",
              "    </tr>\n",
              "    <tr>\n",
              "      <th>1</th>\n",
              "      <td>Three Men Charged with Laundering Proceeds of ...</td>\n",
              "      <td>1</td>\n",
              "      <td>1</td>\n",
              "    </tr>\n",
              "    <tr>\n",
              "      <th>2</th>\n",
              "      <td>Son of ex-Pension boss, Faisal Maina, bags 14y...</td>\n",
              "      <td>1</td>\n",
              "      <td>0</td>\n",
              "    </tr>\n",
              "    <tr>\n",
              "      <th>3</th>\n",
              "      <td>Ex-adviser jailed after laundering money for o...</td>\n",
              "      <td>1</td>\n",
              "      <td>1</td>\n",
              "    </tr>\n",
              "    <tr>\n",
              "      <th>4</th>\n",
              "      <td>Oregon Court of Appeals overturns conviction o...</td>\n",
              "      <td>1</td>\n",
              "      <td>1</td>\n",
              "    </tr>\n",
              "    <tr>\n",
              "      <th>5</th>\n",
              "      <td>MEPs ‘strongly condemn’ conviction of ‘Hotel R...</td>\n",
              "      <td>1</td>\n",
              "      <td>1</td>\n",
              "    </tr>\n",
              "    <tr>\n",
              "      <th>6</th>\n",
              "      <td>he Black Film Archive wants to show the world ...</td>\n",
              "      <td>0</td>\n",
              "      <td>0</td>\n",
              "    </tr>\n",
              "    <tr>\n",
              "      <th>7</th>\n",
              "      <td>Jury convicts ex-Northwestern professor of mur...</td>\n",
              "      <td>1</td>\n",
              "      <td>1</td>\n",
              "    </tr>\n",
              "    <tr>\n",
              "      <th>8</th>\n",
              "      <td>Sensory Design: Architecture for a Full Spectr...</td>\n",
              "      <td>1</td>\n",
              "      <td>1</td>\n",
              "    </tr>\n",
              "    <tr>\n",
              "      <th>9</th>\n",
              "      <td>UAE central bank issues new anti-money launder...</td>\n",
              "      <td>1</td>\n",
              "      <td>0</td>\n",
              "    </tr>\n",
              "    <tr>\n",
              "      <th>10</th>\n",
              "      <td>The mystery of Elon Musk’s missing gas\\nSpaceX...</td>\n",
              "      <td>1</td>\n",
              "      <td>1</td>\n",
              "    </tr>\n",
              "    <tr>\n",
              "      <th>11</th>\n",
              "      <td>How catching birds bare-handed may hint at Nea...</td>\n",
              "      <td>1</td>\n",
              "      <td>1</td>\n",
              "    </tr>\n",
              "    <tr>\n",
              "      <th>12</th>\n",
              "      <td>Economics\\nMaybe the Economy’s Not as Bad as I...</td>\n",
              "      <td>1</td>\n",
              "      <td>1</td>\n",
              "    </tr>\n",
              "    <tr>\n",
              "      <th>13</th>\n",
              "      <td>New Economy Daily\\n\\nThe China Effect\\nThe eco...</td>\n",
              "      <td>1</td>\n",
              "      <td>0</td>\n",
              "    </tr>\n",
              "  </tbody>\n",
              "</table>\n",
              "</div>"
            ],
            "text/plain": [
              "                                                 text  ...  conviction\n",
              "0   Allegations of money laundering, fraud, crimin...  ...           1\n",
              "1   Three Men Charged with Laundering Proceeds of ...  ...           1\n",
              "2   Son of ex-Pension boss, Faisal Maina, bags 14y...  ...           0\n",
              "3   Ex-adviser jailed after laundering money for o...  ...           1\n",
              "4   Oregon Court of Appeals overturns conviction o...  ...           1\n",
              "5   MEPs ‘strongly condemn’ conviction of ‘Hotel R...  ...           1\n",
              "6   he Black Film Archive wants to show the world ...  ...           0\n",
              "7   Jury convicts ex-Northwestern professor of mur...  ...           1\n",
              "8   Sensory Design: Architecture for a Full Spectr...  ...           1\n",
              "9   UAE central bank issues new anti-money launder...  ...           0\n",
              "10  The mystery of Elon Musk’s missing gas\\nSpaceX...  ...           1\n",
              "11  How catching birds bare-handed may hint at Nea...  ...           1\n",
              "12  Economics\\nMaybe the Economy’s Not as Bad as I...  ...           1\n",
              "13  New Economy Daily\\n\\nThe China Effect\\nThe eco...  ...           0\n",
              "\n",
              "[14 rows x 3 columns]"
            ]
          },
          "metadata": {},
          "execution_count": 93
        }
      ]
    },
    {
      "cell_type": "markdown",
      "metadata": {
        "id": "D-4VIhWw668L"
      },
      "source": [
        "DataFrame of Money Laundering predictions for each article"
      ]
    },
    {
      "cell_type": "code",
      "metadata": {
        "colab": {
          "base_uri": "https://localhost:8080/",
          "height": 483
        },
        "id": "FX9E-mvJqc5S",
        "outputId": "bea18ec3-1818-4645-9f60-aef08da9dfe2"
      },
      "source": [
        "detector.ml_predict()"
      ],
      "execution_count": 94,
      "outputs": [
        {
          "output_type": "execute_result",
          "data": {
            "text/html": [
              "<div>\n",
              "<style scoped>\n",
              "    .dataframe tbody tr th:only-of-type {\n",
              "        vertical-align: middle;\n",
              "    }\n",
              "\n",
              "    .dataframe tbody tr th {\n",
              "        vertical-align: top;\n",
              "    }\n",
              "\n",
              "    .dataframe thead th {\n",
              "        text-align: right;\n",
              "    }\n",
              "</style>\n",
              "<table border=\"1\" class=\"dataframe\">\n",
              "  <thead>\n",
              "    <tr style=\"text-align: right;\">\n",
              "      <th></th>\n",
              "      <th>text</th>\n",
              "      <th>money_laundering_or_not</th>\n",
              "    </tr>\n",
              "  </thead>\n",
              "  <tbody>\n",
              "    <tr>\n",
              "      <th>0</th>\n",
              "      <td>Allegations of money laundering, fraud, crimin...</td>\n",
              "      <td>1</td>\n",
              "    </tr>\n",
              "    <tr>\n",
              "      <th>1</th>\n",
              "      <td>Three Men Charged with Laundering Proceeds of ...</td>\n",
              "      <td>1</td>\n",
              "    </tr>\n",
              "    <tr>\n",
              "      <th>2</th>\n",
              "      <td>Son of ex-Pension boss, Faisal Maina, bags 14y...</td>\n",
              "      <td>1</td>\n",
              "    </tr>\n",
              "    <tr>\n",
              "      <th>3</th>\n",
              "      <td>Ex-adviser jailed after laundering money for o...</td>\n",
              "      <td>1</td>\n",
              "    </tr>\n",
              "    <tr>\n",
              "      <th>4</th>\n",
              "      <td>Oregon Court of Appeals overturns conviction o...</td>\n",
              "      <td>1</td>\n",
              "    </tr>\n",
              "    <tr>\n",
              "      <th>5</th>\n",
              "      <td>MEPs ‘strongly condemn’ conviction of ‘Hotel R...</td>\n",
              "      <td>1</td>\n",
              "    </tr>\n",
              "    <tr>\n",
              "      <th>6</th>\n",
              "      <td>he Black Film Archive wants to show the world ...</td>\n",
              "      <td>0</td>\n",
              "    </tr>\n",
              "    <tr>\n",
              "      <th>7</th>\n",
              "      <td>Jury convicts ex-Northwestern professor of mur...</td>\n",
              "      <td>1</td>\n",
              "    </tr>\n",
              "    <tr>\n",
              "      <th>8</th>\n",
              "      <td>Sensory Design: Architecture for a Full Spectr...</td>\n",
              "      <td>1</td>\n",
              "    </tr>\n",
              "    <tr>\n",
              "      <th>9</th>\n",
              "      <td>UAE central bank issues new anti-money launder...</td>\n",
              "      <td>1</td>\n",
              "    </tr>\n",
              "    <tr>\n",
              "      <th>10</th>\n",
              "      <td>The mystery of Elon Musk’s missing gas\\nSpaceX...</td>\n",
              "      <td>1</td>\n",
              "    </tr>\n",
              "    <tr>\n",
              "      <th>11</th>\n",
              "      <td>How catching birds bare-handed may hint at Nea...</td>\n",
              "      <td>1</td>\n",
              "    </tr>\n",
              "    <tr>\n",
              "      <th>12</th>\n",
              "      <td>Economics\\nMaybe the Economy’s Not as Bad as I...</td>\n",
              "      <td>1</td>\n",
              "    </tr>\n",
              "    <tr>\n",
              "      <th>13</th>\n",
              "      <td>New Economy Daily\\n\\nThe China Effect\\nThe eco...</td>\n",
              "      <td>1</td>\n",
              "    </tr>\n",
              "  </tbody>\n",
              "</table>\n",
              "</div>"
            ],
            "text/plain": [
              "                                                 text  money_laundering_or_not\n",
              "0   Allegations of money laundering, fraud, crimin...                        1\n",
              "1   Three Men Charged with Laundering Proceeds of ...                        1\n",
              "2   Son of ex-Pension boss, Faisal Maina, bags 14y...                        1\n",
              "3   Ex-adviser jailed after laundering money for o...                        1\n",
              "4   Oregon Court of Appeals overturns conviction o...                        1\n",
              "5   MEPs ‘strongly condemn’ conviction of ‘Hotel R...                        1\n",
              "6   he Black Film Archive wants to show the world ...                        0\n",
              "7   Jury convicts ex-Northwestern professor of mur...                        1\n",
              "8   Sensory Design: Architecture for a Full Spectr...                        1\n",
              "9   UAE central bank issues new anti-money launder...                        1\n",
              "10  The mystery of Elon Musk’s missing gas\\nSpaceX...                        1\n",
              "11  How catching birds bare-handed may hint at Nea...                        1\n",
              "12  Economics\\nMaybe the Economy’s Not as Bad as I...                        1\n",
              "13  New Economy Daily\\n\\nThe China Effect\\nThe eco...                        1"
            ]
          },
          "metadata": {},
          "execution_count": 94
        }
      ]
    },
    {
      "cell_type": "markdown",
      "metadata": {
        "id": "Kub79S3J7FCN"
      },
      "source": [
        "DataFrame of Allegation or Conviction prediction for each article"
      ]
    },
    {
      "cell_type": "code",
      "metadata": {
        "colab": {
          "base_uri": "https://localhost:8080/",
          "height": 452
        },
        "id": "Tq8br3h3qiMb",
        "outputId": "2503dd6f-8820-4cff-dd5f-b11bf0287f9c"
      },
      "source": [
        "detector.ind_predict()"
      ],
      "execution_count": 95,
      "outputs": [
        {
          "output_type": "execute_result",
          "data": {
            "text/html": [
              "<div>\n",
              "<style scoped>\n",
              "    .dataframe tbody tr th:only-of-type {\n",
              "        vertical-align: middle;\n",
              "    }\n",
              "\n",
              "    .dataframe tbody tr th {\n",
              "        vertical-align: top;\n",
              "    }\n",
              "\n",
              "    .dataframe thead th {\n",
              "        text-align: right;\n",
              "    }\n",
              "</style>\n",
              "<table border=\"1\" class=\"dataframe\">\n",
              "  <thead>\n",
              "    <tr style=\"text-align: right;\">\n",
              "      <th></th>\n",
              "      <th>text</th>\n",
              "      <th>conviction</th>\n",
              "    </tr>\n",
              "  </thead>\n",
              "  <tbody>\n",
              "    <tr>\n",
              "      <th>0</th>\n",
              "      <td>Allegations of money laundering, fraud, crimin...</td>\n",
              "      <td>1</td>\n",
              "    </tr>\n",
              "    <tr>\n",
              "      <th>1</th>\n",
              "      <td>Three Men Charged with Laundering Proceeds of ...</td>\n",
              "      <td>1</td>\n",
              "    </tr>\n",
              "    <tr>\n",
              "      <th>2</th>\n",
              "      <td>Son of ex-Pension boss, Faisal Maina, bags 14y...</td>\n",
              "      <td>0</td>\n",
              "    </tr>\n",
              "    <tr>\n",
              "      <th>3</th>\n",
              "      <td>Ex-adviser jailed after laundering money for o...</td>\n",
              "      <td>1</td>\n",
              "    </tr>\n",
              "    <tr>\n",
              "      <th>4</th>\n",
              "      <td>Oregon Court of Appeals overturns conviction o...</td>\n",
              "      <td>1</td>\n",
              "    </tr>\n",
              "    <tr>\n",
              "      <th>5</th>\n",
              "      <td>MEPs ‘strongly condemn’ conviction of ‘Hotel R...</td>\n",
              "      <td>1</td>\n",
              "    </tr>\n",
              "    <tr>\n",
              "      <th>7</th>\n",
              "      <td>Jury convicts ex-Northwestern professor of mur...</td>\n",
              "      <td>1</td>\n",
              "    </tr>\n",
              "    <tr>\n",
              "      <th>8</th>\n",
              "      <td>Sensory Design: Architecture for a Full Spectr...</td>\n",
              "      <td>1</td>\n",
              "    </tr>\n",
              "    <tr>\n",
              "      <th>9</th>\n",
              "      <td>UAE central bank issues new anti-money launder...</td>\n",
              "      <td>0</td>\n",
              "    </tr>\n",
              "    <tr>\n",
              "      <th>10</th>\n",
              "      <td>The mystery of Elon Musk’s missing gas\\nSpaceX...</td>\n",
              "      <td>1</td>\n",
              "    </tr>\n",
              "    <tr>\n",
              "      <th>11</th>\n",
              "      <td>How catching birds bare-handed may hint at Nea...</td>\n",
              "      <td>1</td>\n",
              "    </tr>\n",
              "    <tr>\n",
              "      <th>12</th>\n",
              "      <td>Economics\\nMaybe the Economy’s Not as Bad as I...</td>\n",
              "      <td>1</td>\n",
              "    </tr>\n",
              "    <tr>\n",
              "      <th>13</th>\n",
              "      <td>New Economy Daily\\n\\nThe China Effect\\nThe eco...</td>\n",
              "      <td>0</td>\n",
              "    </tr>\n",
              "  </tbody>\n",
              "</table>\n",
              "</div>"
            ],
            "text/plain": [
              "                                                 text  conviction\n",
              "0   Allegations of money laundering, fraud, crimin...           1\n",
              "1   Three Men Charged with Laundering Proceeds of ...           1\n",
              "2   Son of ex-Pension boss, Faisal Maina, bags 14y...           0\n",
              "3   Ex-adviser jailed after laundering money for o...           1\n",
              "4   Oregon Court of Appeals overturns conviction o...           1\n",
              "5   MEPs ‘strongly condemn’ conviction of ‘Hotel R...           1\n",
              "7   Jury convicts ex-Northwestern professor of mur...           1\n",
              "8   Sensory Design: Architecture for a Full Spectr...           1\n",
              "9   UAE central bank issues new anti-money launder...           0\n",
              "10  The mystery of Elon Musk’s missing gas\\nSpaceX...           1\n",
              "11  How catching birds bare-handed may hint at Nea...           1\n",
              "12  Economics\\nMaybe the Economy’s Not as Bad as I...           1\n",
              "13  New Economy Daily\\n\\nThe China Effect\\nThe eco...           0"
            ]
          },
          "metadata": {},
          "execution_count": 95
        }
      ]
    },
    {
      "cell_type": "markdown",
      "metadata": {
        "id": "XVPIFKz47Lz6"
      },
      "source": [
        "\n",
        "\n",
        "---\n",
        "\n",
        "\n",
        "\n",
        "---\n",
        "\n"
      ]
    }
  ]
}